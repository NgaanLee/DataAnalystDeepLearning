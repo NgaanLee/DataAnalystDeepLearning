{
  "nbformat": 4,
  "nbformat_minor": 0,
  "metadata": {
    "colab": {
      "name": "Homeworks-Lap02.ipynb",
      "provenance": [],
      "collapsed_sections": [],
      "authorship_tag": "ABX9TyPTgvU/t+dtkiOm1d21C9DQ",
      "include_colab_link": true
    },
    "kernelspec": {
      "name": "python3",
      "display_name": "Python 3"
    },
    "language_info": {
      "name": "python"
    }
  },
  "cells": [
    {
      "cell_type": "markdown",
      "metadata": {
        "id": "view-in-github",
        "colab_type": "text"
      },
      "source": [
        "<a href=\"https://colab.research.google.com/github/NgaanLee/DataAnalystDeepLearning/blob/main/Homeworks_Lap02.ipynb\" target=\"_parent\"><img src=\"https://colab.research.google.com/assets/colab-badge.svg\" alt=\"Open In Colab\"/></a>"
      ]
    },
    {
      "cell_type": "markdown",
      "metadata": {
        "id": "VJgtDHde46zP"
      },
      "source": [
        "# TRÌNH BÀY DỮ LIỆU"
      ]
    },
    {
      "cell_type": "markdown",
      "metadata": {
        "id": "abkvCxgjGBIP"
      },
      "source": [
        "**Nội dung: Trực quan hóa dữ liệu điểm thi đã được xử lý processed_dulieuxettuyendaihoc.csv Mục tiêu: Sinh viên đạt được kiến thức sau.**\n",
        "\n",
        "1. Trình bày dữ liệu cơ bản\n",
        "2. Trực quan hóa dữ liệu cơ bản"
      ]
    },
    {
      "cell_type": "code",
      "metadata": {
        "id": "Bl2A1oHpL7FE"
      },
      "source": [
        "# Khai báo các thư viên\n",
        "import pandas as pd\n",
        "import numpy as np\n",
        "import sys\n",
        "import seaborn as sns\n",
        "import matplotlib.pyplot as plt"
      ],
      "execution_count": 1,
      "outputs": []
    },
    {
      "cell_type": "code",
      "metadata": {
        "colab": {
          "base_uri": "https://localhost:8080/"
        },
        "id": "teHnfRS6MnDg",
        "outputId": "ac9c7d12-5772-41a6-8864-ff7521046443"
      },
      "source": [
        "from google.colab import drive\n",
        "drive.mount('/drive')"
      ],
      "execution_count": 2,
      "outputs": [
        {
          "output_type": "stream",
          "name": "stdout",
          "text": [
            "Mounted at /drive\n"
          ]
        }
      ]
    },
    {
      "cell_type": "code",
      "metadata": {
        "id": "inAP0niqNAoq"
      },
      "source": [
        "# lấy dữ liệu đã được lưu trên Drive\n",
        "df = pd.read_csv(\"/drive/My Drive/DataAnalyst/processed_dulieuxettuyendaihoc.csv\", index_col = \"STT\")"
      ],
      "execution_count": 3,
      "outputs": []
    },
    {
      "cell_type": "code",
      "metadata": {
        "colab": {
          "base_uri": "https://localhost:8080/",
          "height": 487
        },
        "id": "kaNdGnKDQQd_",
        "outputId": "47182179-362e-441c-dde6-e4e981317696"
      },
      "source": [
        "df"
      ],
      "execution_count": null,
      "outputs": [
        {
          "output_type": "execute_result",
          "data": {
            "text/html": [
              "<div>\n",
              "<style scoped>\n",
              "    .dataframe tbody tr th:only-of-type {\n",
              "        vertical-align: middle;\n",
              "    }\n",
              "\n",
              "    .dataframe tbody tr th {\n",
              "        vertical-align: top;\n",
              "    }\n",
              "\n",
              "    .dataframe thead th {\n",
              "        text-align: right;\n",
              "    }\n",
              "</style>\n",
              "<table border=\"1\" class=\"dataframe\">\n",
              "  <thead>\n",
              "    <tr style=\"text-align: right;\">\n",
              "      <th></th>\n",
              "      <th>Unnamed: 0</th>\n",
              "      <th>Unnamed: 0.1</th>\n",
              "      <th>T1</th>\n",
              "      <th>L1</th>\n",
              "      <th>H1</th>\n",
              "      <th>S1</th>\n",
              "      <th>V1</th>\n",
              "      <th>X1</th>\n",
              "      <th>D1</th>\n",
              "      <th>N1</th>\n",
              "      <th>T2</th>\n",
              "      <th>L2</th>\n",
              "      <th>H2</th>\n",
              "      <th>S2</th>\n",
              "      <th>V2</th>\n",
              "      <th>X2</th>\n",
              "      <th>D2</th>\n",
              "      <th>N2</th>\n",
              "      <th>T3</th>\n",
              "      <th>L3</th>\n",
              "      <th>H3</th>\n",
              "      <th>S3</th>\n",
              "      <th>V3</th>\n",
              "      <th>X3</th>\n",
              "      <th>D3</th>\n",
              "      <th>N3</th>\n",
              "      <th>T4</th>\n",
              "      <th>L4</th>\n",
              "      <th>H4</th>\n",
              "      <th>S4</th>\n",
              "      <th>V4</th>\n",
              "      <th>X4</th>\n",
              "      <th>D4</th>\n",
              "      <th>N4</th>\n",
              "      <th>T5</th>\n",
              "      <th>L5</th>\n",
              "      <th>H5</th>\n",
              "      <th>S5</th>\n",
              "      <th>V5</th>\n",
              "      <th>X5</th>\n",
              "      <th>D5</th>\n",
              "      <th>N5</th>\n",
              "      <th>T6</th>\n",
              "      <th>L6</th>\n",
              "      <th>H6</th>\n",
              "      <th>S6</th>\n",
              "      <th>V6</th>\n",
              "      <th>X6</th>\n",
              "      <th>D6</th>\n",
              "      <th>N6</th>\n",
              "      <th>GT</th>\n",
              "      <th>DT</th>\n",
              "      <th>KV</th>\n",
              "      <th>DH1</th>\n",
              "      <th>DH2</th>\n",
              "      <th>DH3</th>\n",
              "      <th>KT</th>\n",
              "      <th>TBM1</th>\n",
              "      <th>TBM2</th>\n",
              "      <th>TBM3</th>\n",
              "      <th>XL1</th>\n",
              "      <th>XL2</th>\n",
              "      <th>XL3</th>\n",
              "      <th>US_TBM1</th>\n",
              "      <th>US_TBM2</th>\n",
              "      <th>US_TBM3</th>\n",
              "      <th>KQXT</th>\n",
              "    </tr>\n",
              "    <tr>\n",
              "      <th>STT</th>\n",
              "      <th></th>\n",
              "      <th></th>\n",
              "      <th></th>\n",
              "      <th></th>\n",
              "      <th></th>\n",
              "      <th></th>\n",
              "      <th></th>\n",
              "      <th></th>\n",
              "      <th></th>\n",
              "      <th></th>\n",
              "      <th></th>\n",
              "      <th></th>\n",
              "      <th></th>\n",
              "      <th></th>\n",
              "      <th></th>\n",
              "      <th></th>\n",
              "      <th></th>\n",
              "      <th></th>\n",
              "      <th></th>\n",
              "      <th></th>\n",
              "      <th></th>\n",
              "      <th></th>\n",
              "      <th></th>\n",
              "      <th></th>\n",
              "      <th></th>\n",
              "      <th></th>\n",
              "      <th></th>\n",
              "      <th></th>\n",
              "      <th></th>\n",
              "      <th></th>\n",
              "      <th></th>\n",
              "      <th></th>\n",
              "      <th></th>\n",
              "      <th></th>\n",
              "      <th></th>\n",
              "      <th></th>\n",
              "      <th></th>\n",
              "      <th></th>\n",
              "      <th></th>\n",
              "      <th></th>\n",
              "      <th></th>\n",
              "      <th></th>\n",
              "      <th></th>\n",
              "      <th></th>\n",
              "      <th></th>\n",
              "      <th></th>\n",
              "      <th></th>\n",
              "      <th></th>\n",
              "      <th></th>\n",
              "      <th></th>\n",
              "      <th></th>\n",
              "      <th></th>\n",
              "      <th></th>\n",
              "      <th></th>\n",
              "      <th></th>\n",
              "      <th></th>\n",
              "      <th></th>\n",
              "      <th></th>\n",
              "      <th></th>\n",
              "      <th></th>\n",
              "      <th></th>\n",
              "      <th></th>\n",
              "      <th></th>\n",
              "      <th></th>\n",
              "      <th></th>\n",
              "      <th></th>\n",
              "      <th></th>\n",
              "    </tr>\n",
              "  </thead>\n",
              "  <tbody>\n",
              "    <tr>\n",
              "      <th>1</th>\n",
              "      <td>0</td>\n",
              "      <td>0</td>\n",
              "      <td>7.2</td>\n",
              "      <td>7.3</td>\n",
              "      <td>6.3</td>\n",
              "      <td>7.3</td>\n",
              "      <td>7.0</td>\n",
              "      <td>7.9</td>\n",
              "      <td>7.3</td>\n",
              "      <td>5.5</td>\n",
              "      <td>8.4</td>\n",
              "      <td>8.9</td>\n",
              "      <td>5.8</td>\n",
              "      <td>9.0</td>\n",
              "      <td>6.6</td>\n",
              "      <td>8.7</td>\n",
              "      <td>7.2</td>\n",
              "      <td>5.8</td>\n",
              "      <td>7.4</td>\n",
              "      <td>7.4</td>\n",
              "      <td>5.2</td>\n",
              "      <td>6.6</td>\n",
              "      <td>6.9</td>\n",
              "      <td>8.9</td>\n",
              "      <td>8.1</td>\n",
              "      <td>5.8</td>\n",
              "      <td>7.2</td>\n",
              "      <td>7.1</td>\n",
              "      <td>5.9</td>\n",
              "      <td>7.2</td>\n",
              "      <td>6.6</td>\n",
              "      <td>5.8</td>\n",
              "      <td>8.1</td>\n",
              "      <td>5.9</td>\n",
              "      <td>7.4</td>\n",
              "      <td>5.6</td>\n",
              "      <td>6.1</td>\n",
              "      <td>5.7</td>\n",
              "      <td>7.9</td>\n",
              "      <td>5.0</td>\n",
              "      <td>7.4</td>\n",
              "      <td>5.0</td>\n",
              "      <td>6.9</td>\n",
              "      <td>5.7</td>\n",
              "      <td>6.5</td>\n",
              "      <td>7.2</td>\n",
              "      <td>8.4</td>\n",
              "      <td>6.6</td>\n",
              "      <td>7.6</td>\n",
              "      <td>5.9</td>\n",
              "      <td>F</td>\n",
              "      <td>0.0</td>\n",
              "      <td>2NT</td>\n",
              "      <td>3.25</td>\n",
              "      <td>3.25</td>\n",
              "      <td>4.50</td>\n",
              "      <td>A1</td>\n",
              "      <td>7.00</td>\n",
              "      <td>7.54</td>\n",
              "      <td>7.06</td>\n",
              "      <td>K</td>\n",
              "      <td>K</td>\n",
              "      <td>K</td>\n",
              "      <td>2.800</td>\n",
              "      <td>3.016</td>\n",
              "      <td>2.824</td>\n",
              "      <td>0.0</td>\n",
              "    </tr>\n",
              "    <tr>\n",
              "      <th>2</th>\n",
              "      <td>1</td>\n",
              "      <td>1</td>\n",
              "      <td>5.4</td>\n",
              "      <td>3.9</td>\n",
              "      <td>3.9</td>\n",
              "      <td>4.0</td>\n",
              "      <td>5.4</td>\n",
              "      <td>5.4</td>\n",
              "      <td>5.3</td>\n",
              "      <td>2.8</td>\n",
              "      <td>6.3</td>\n",
              "      <td>5.4</td>\n",
              "      <td>3.2</td>\n",
              "      <td>7.2</td>\n",
              "      <td>5.4</td>\n",
              "      <td>6.1</td>\n",
              "      <td>4.7</td>\n",
              "      <td>4.7</td>\n",
              "      <td>4.3</td>\n",
              "      <td>3.8</td>\n",
              "      <td>3.7</td>\n",
              "      <td>3.7</td>\n",
              "      <td>5.2</td>\n",
              "      <td>6.6</td>\n",
              "      <td>5.8</td>\n",
              "      <td>4.4</td>\n",
              "      <td>4.9</td>\n",
              "      <td>2.8</td>\n",
              "      <td>5.1</td>\n",
              "      <td>4.5</td>\n",
              "      <td>5.6</td>\n",
              "      <td>7.0</td>\n",
              "      <td>7.6</td>\n",
              "      <td>4.7</td>\n",
              "      <td>3.0</td>\n",
              "      <td>4.6</td>\n",
              "      <td>4.4</td>\n",
              "      <td>4.9</td>\n",
              "      <td>4.3</td>\n",
              "      <td>6.3</td>\n",
              "      <td>6.7</td>\n",
              "      <td>4.4</td>\n",
              "      <td>4.0</td>\n",
              "      <td>5.4</td>\n",
              "      <td>4.0</td>\n",
              "      <td>5.2</td>\n",
              "      <td>5.5</td>\n",
              "      <td>6.6</td>\n",
              "      <td>6.1</td>\n",
              "      <td>4.4</td>\n",
              "      <td>M</td>\n",
              "      <td>0.0</td>\n",
              "      <td>1</td>\n",
              "      <td>6.00</td>\n",
              "      <td>4.00</td>\n",
              "      <td>3.50</td>\n",
              "      <td>C</td>\n",
              "      <td>4.69</td>\n",
              "      <td>5.47</td>\n",
              "      <td>4.70</td>\n",
              "      <td>Y</td>\n",
              "      <td>TB</td>\n",
              "      <td>Y</td>\n",
              "      <td>1.876</td>\n",
              "      <td>2.188</td>\n",
              "      <td>1.880</td>\n",
              "      <td>0.0</td>\n",
              "    </tr>\n",
              "    <tr>\n",
              "      <th>3</th>\n",
              "      <td>2</td>\n",
              "      <td>2</td>\n",
              "      <td>5.6</td>\n",
              "      <td>6.8</td>\n",
              "      <td>7.2</td>\n",
              "      <td>7.5</td>\n",
              "      <td>4.3</td>\n",
              "      <td>7.4</td>\n",
              "      <td>5.8</td>\n",
              "      <td>3.2</td>\n",
              "      <td>5.0</td>\n",
              "      <td>4.9</td>\n",
              "      <td>6.2</td>\n",
              "      <td>6.1</td>\n",
              "      <td>5.3</td>\n",
              "      <td>7.1</td>\n",
              "      <td>4.0</td>\n",
              "      <td>4.9</td>\n",
              "      <td>2.8</td>\n",
              "      <td>6.3</td>\n",
              "      <td>6.2</td>\n",
              "      <td>5.6</td>\n",
              "      <td>2.5</td>\n",
              "      <td>5.8</td>\n",
              "      <td>5.1</td>\n",
              "      <td>3.7</td>\n",
              "      <td>6.1</td>\n",
              "      <td>6.1</td>\n",
              "      <td>5.8</td>\n",
              "      <td>6.8</td>\n",
              "      <td>4.0</td>\n",
              "      <td>6.4</td>\n",
              "      <td>5.3</td>\n",
              "      <td>4.1</td>\n",
              "      <td>4.8</td>\n",
              "      <td>5.1</td>\n",
              "      <td>6.4</td>\n",
              "      <td>5.1</td>\n",
              "      <td>4.0</td>\n",
              "      <td>6.9</td>\n",
              "      <td>3.9</td>\n",
              "      <td>3.2</td>\n",
              "      <td>5.7</td>\n",
              "      <td>6.6</td>\n",
              "      <td>6.8</td>\n",
              "      <td>6.8</td>\n",
              "      <td>4.1</td>\n",
              "      <td>7.9</td>\n",
              "      <td>8.1</td>\n",
              "      <td>4.6</td>\n",
              "      <td>M</td>\n",
              "      <td>0.0</td>\n",
              "      <td>1</td>\n",
              "      <td>5.00</td>\n",
              "      <td>6.75</td>\n",
              "      <td>4.00</td>\n",
              "      <td>C</td>\n",
              "      <td>5.77</td>\n",
              "      <td>5.38</td>\n",
              "      <td>4.33</td>\n",
              "      <td>TB</td>\n",
              "      <td>TB</td>\n",
              "      <td>Y</td>\n",
              "      <td>2.308</td>\n",
              "      <td>2.152</td>\n",
              "      <td>1.732</td>\n",
              "      <td>1.0</td>\n",
              "    </tr>\n",
              "    <tr>\n",
              "      <th>4</th>\n",
              "      <td>3</td>\n",
              "      <td>3</td>\n",
              "      <td>6.6</td>\n",
              "      <td>6.4</td>\n",
              "      <td>5.3</td>\n",
              "      <td>6.9</td>\n",
              "      <td>5.4</td>\n",
              "      <td>7.3</td>\n",
              "      <td>6.4</td>\n",
              "      <td>5.8</td>\n",
              "      <td>5.1</td>\n",
              "      <td>6.2</td>\n",
              "      <td>5.5</td>\n",
              "      <td>5.5</td>\n",
              "      <td>4.4</td>\n",
              "      <td>6.5</td>\n",
              "      <td>4.9</td>\n",
              "      <td>4.4</td>\n",
              "      <td>5.9</td>\n",
              "      <td>7.3</td>\n",
              "      <td>5.9</td>\n",
              "      <td>4.9</td>\n",
              "      <td>5.7</td>\n",
              "      <td>6.8</td>\n",
              "      <td>6.8</td>\n",
              "      <td>5.4</td>\n",
              "      <td>4.1</td>\n",
              "      <td>4.4</td>\n",
              "      <td>4.1</td>\n",
              "      <td>7.3</td>\n",
              "      <td>5.3</td>\n",
              "      <td>7.1</td>\n",
              "      <td>7.3</td>\n",
              "      <td>5.6</td>\n",
              "      <td>6.1</td>\n",
              "      <td>4.9</td>\n",
              "      <td>5.3</td>\n",
              "      <td>4.0</td>\n",
              "      <td>6.2</td>\n",
              "      <td>5.5</td>\n",
              "      <td>5.9</td>\n",
              "      <td>6.5</td>\n",
              "      <td>7.4</td>\n",
              "      <td>5.6</td>\n",
              "      <td>6.6</td>\n",
              "      <td>6.8</td>\n",
              "      <td>6.6</td>\n",
              "      <td>7.1</td>\n",
              "      <td>7.3</td>\n",
              "      <td>7.4</td>\n",
              "      <td>M</td>\n",
              "      <td>0.0</td>\n",
              "      <td>1</td>\n",
              "      <td>4.25</td>\n",
              "      <td>4.25</td>\n",
              "      <td>5.25</td>\n",
              "      <td>D1</td>\n",
              "      <td>6.21</td>\n",
              "      <td>5.20</td>\n",
              "      <td>6.03</td>\n",
              "      <td>TB</td>\n",
              "      <td>TB</td>\n",
              "      <td>TB</td>\n",
              "      <td>2.484</td>\n",
              "      <td>2.080</td>\n",
              "      <td>2.412</td>\n",
              "      <td>0.0</td>\n",
              "    </tr>\n",
              "    <tr>\n",
              "      <th>5</th>\n",
              "      <td>4</td>\n",
              "      <td>4</td>\n",
              "      <td>6.0</td>\n",
              "      <td>5.0</td>\n",
              "      <td>6.0</td>\n",
              "      <td>7.3</td>\n",
              "      <td>6.5</td>\n",
              "      <td>7.7</td>\n",
              "      <td>7.9</td>\n",
              "      <td>6.1</td>\n",
              "      <td>5.4</td>\n",
              "      <td>5.5</td>\n",
              "      <td>5.9</td>\n",
              "      <td>7.5</td>\n",
              "      <td>6.5</td>\n",
              "      <td>6.9</td>\n",
              "      <td>7.6</td>\n",
              "      <td>6.4</td>\n",
              "      <td>7.6</td>\n",
              "      <td>7.6</td>\n",
              "      <td>6.7</td>\n",
              "      <td>6.6</td>\n",
              "      <td>5.7</td>\n",
              "      <td>7.9</td>\n",
              "      <td>7.4</td>\n",
              "      <td>7.3</td>\n",
              "      <td>4.4</td>\n",
              "      <td>6.5</td>\n",
              "      <td>5.6</td>\n",
              "      <td>8.3</td>\n",
              "      <td>6.2</td>\n",
              "      <td>4.9</td>\n",
              "      <td>8.6</td>\n",
              "      <td>7.7</td>\n",
              "      <td>6.8</td>\n",
              "      <td>5.4</td>\n",
              "      <td>4.7</td>\n",
              "      <td>5.0</td>\n",
              "      <td>5.1</td>\n",
              "      <td>7.0</td>\n",
              "      <td>7.0</td>\n",
              "      <td>6.3</td>\n",
              "      <td>8.0</td>\n",
              "      <td>6.2</td>\n",
              "      <td>6.8</td>\n",
              "      <td>6.9</td>\n",
              "      <td>6.6</td>\n",
              "      <td>6.1</td>\n",
              "      <td>7.5</td>\n",
              "      <td>7.2</td>\n",
              "      <td>M</td>\n",
              "      <td>0.0</td>\n",
              "      <td>2NT</td>\n",
              "      <td>4.25</td>\n",
              "      <td>4.50</td>\n",
              "      <td>5.00</td>\n",
              "      <td>A</td>\n",
              "      <td>6.50</td>\n",
              "      <td>6.36</td>\n",
              "      <td>7.01</td>\n",
              "      <td>K</td>\n",
              "      <td>TB</td>\n",
              "      <td>K</td>\n",
              "      <td>2.600</td>\n",
              "      <td>2.544</td>\n",
              "      <td>2.804</td>\n",
              "      <td>0.0</td>\n",
              "    </tr>\n",
              "    <tr>\n",
              "      <th>...</th>\n",
              "      <td>...</td>\n",
              "      <td>...</td>\n",
              "      <td>...</td>\n",
              "      <td>...</td>\n",
              "      <td>...</td>\n",
              "      <td>...</td>\n",
              "      <td>...</td>\n",
              "      <td>...</td>\n",
              "      <td>...</td>\n",
              "      <td>...</td>\n",
              "      <td>...</td>\n",
              "      <td>...</td>\n",
              "      <td>...</td>\n",
              "      <td>...</td>\n",
              "      <td>...</td>\n",
              "      <td>...</td>\n",
              "      <td>...</td>\n",
              "      <td>...</td>\n",
              "      <td>...</td>\n",
              "      <td>...</td>\n",
              "      <td>...</td>\n",
              "      <td>...</td>\n",
              "      <td>...</td>\n",
              "      <td>...</td>\n",
              "      <td>...</td>\n",
              "      <td>...</td>\n",
              "      <td>...</td>\n",
              "      <td>...</td>\n",
              "      <td>...</td>\n",
              "      <td>...</td>\n",
              "      <td>...</td>\n",
              "      <td>...</td>\n",
              "      <td>...</td>\n",
              "      <td>...</td>\n",
              "      <td>...</td>\n",
              "      <td>...</td>\n",
              "      <td>...</td>\n",
              "      <td>...</td>\n",
              "      <td>...</td>\n",
              "      <td>...</td>\n",
              "      <td>...</td>\n",
              "      <td>...</td>\n",
              "      <td>...</td>\n",
              "      <td>...</td>\n",
              "      <td>...</td>\n",
              "      <td>...</td>\n",
              "      <td>...</td>\n",
              "      <td>...</td>\n",
              "      <td>...</td>\n",
              "      <td>...</td>\n",
              "      <td>...</td>\n",
              "      <td>...</td>\n",
              "      <td>...</td>\n",
              "      <td>...</td>\n",
              "      <td>...</td>\n",
              "      <td>...</td>\n",
              "      <td>...</td>\n",
              "      <td>...</td>\n",
              "      <td>...</td>\n",
              "      <td>...</td>\n",
              "      <td>...</td>\n",
              "      <td>...</td>\n",
              "      <td>...</td>\n",
              "      <td>...</td>\n",
              "      <td>...</td>\n",
              "      <td>...</td>\n",
              "      <td>...</td>\n",
              "    </tr>\n",
              "    <tr>\n",
              "      <th>96</th>\n",
              "      <td>95</td>\n",
              "      <td>95</td>\n",
              "      <td>8.6</td>\n",
              "      <td>6.9</td>\n",
              "      <td>7.4</td>\n",
              "      <td>8.8</td>\n",
              "      <td>7.6</td>\n",
              "      <td>5.8</td>\n",
              "      <td>7.3</td>\n",
              "      <td>5.7</td>\n",
              "      <td>8.9</td>\n",
              "      <td>6.8</td>\n",
              "      <td>6.5</td>\n",
              "      <td>7.3</td>\n",
              "      <td>7.0</td>\n",
              "      <td>7.3</td>\n",
              "      <td>6.9</td>\n",
              "      <td>7.6</td>\n",
              "      <td>7.7</td>\n",
              "      <td>5.6</td>\n",
              "      <td>5.9</td>\n",
              "      <td>7.7</td>\n",
              "      <td>6.8</td>\n",
              "      <td>8.1</td>\n",
              "      <td>6.6</td>\n",
              "      <td>7.5</td>\n",
              "      <td>6.7</td>\n",
              "      <td>6.8</td>\n",
              "      <td>6.0</td>\n",
              "      <td>8.3</td>\n",
              "      <td>7.5</td>\n",
              "      <td>7.1</td>\n",
              "      <td>6.8</td>\n",
              "      <td>7.8</td>\n",
              "      <td>7.9</td>\n",
              "      <td>6.7</td>\n",
              "      <td>7.2</td>\n",
              "      <td>6.1</td>\n",
              "      <td>7.2</td>\n",
              "      <td>5.3</td>\n",
              "      <td>5.2</td>\n",
              "      <td>5.2</td>\n",
              "      <td>6.6</td>\n",
              "      <td>6.9</td>\n",
              "      <td>7.4</td>\n",
              "      <td>7.0</td>\n",
              "      <td>7.6</td>\n",
              "      <td>6.3</td>\n",
              "      <td>6.1</td>\n",
              "      <td>6.2</td>\n",
              "      <td>F</td>\n",
              "      <td>0.0</td>\n",
              "      <td>1</td>\n",
              "      <td>5.25</td>\n",
              "      <td>1.50</td>\n",
              "      <td>6.25</td>\n",
              "      <td>C</td>\n",
              "      <td>7.43</td>\n",
              "      <td>7.42</td>\n",
              "      <td>7.04</td>\n",
              "      <td>K</td>\n",
              "      <td>K</td>\n",
              "      <td>K</td>\n",
              "      <td>2.972</td>\n",
              "      <td>2.968</td>\n",
              "      <td>2.816</td>\n",
              "      <td>0.0</td>\n",
              "    </tr>\n",
              "    <tr>\n",
              "      <th>97</th>\n",
              "      <td>96</td>\n",
              "      <td>96</td>\n",
              "      <td>3.7</td>\n",
              "      <td>5.4</td>\n",
              "      <td>6.0</td>\n",
              "      <td>5.1</td>\n",
              "      <td>5.5</td>\n",
              "      <td>3.9</td>\n",
              "      <td>6.1</td>\n",
              "      <td>4.4</td>\n",
              "      <td>4.1</td>\n",
              "      <td>4.8</td>\n",
              "      <td>5.1</td>\n",
              "      <td>4.7</td>\n",
              "      <td>5.9</td>\n",
              "      <td>6.9</td>\n",
              "      <td>4.6</td>\n",
              "      <td>5.4</td>\n",
              "      <td>3.1</td>\n",
              "      <td>3.1</td>\n",
              "      <td>5.3</td>\n",
              "      <td>5.8</td>\n",
              "      <td>5.6</td>\n",
              "      <td>5.4</td>\n",
              "      <td>6.6</td>\n",
              "      <td>4.2</td>\n",
              "      <td>3.4</td>\n",
              "      <td>4.9</td>\n",
              "      <td>5.9</td>\n",
              "      <td>6.9</td>\n",
              "      <td>5.6</td>\n",
              "      <td>6.4</td>\n",
              "      <td>5.7</td>\n",
              "      <td>4.3</td>\n",
              "      <td>5.5</td>\n",
              "      <td>4.7</td>\n",
              "      <td>4.6</td>\n",
              "      <td>3.4</td>\n",
              "      <td>6.9</td>\n",
              "      <td>7.6</td>\n",
              "      <td>7.4</td>\n",
              "      <td>4.9</td>\n",
              "      <td>5.7</td>\n",
              "      <td>7.7</td>\n",
              "      <td>5.0</td>\n",
              "      <td>7.0</td>\n",
              "      <td>6.5</td>\n",
              "      <td>7.9</td>\n",
              "      <td>7.5</td>\n",
              "      <td>4.4</td>\n",
              "      <td>F</td>\n",
              "      <td>0.0</td>\n",
              "      <td>1</td>\n",
              "      <td>5.25</td>\n",
              "      <td>3.75</td>\n",
              "      <td>4.75</td>\n",
              "      <td>C</td>\n",
              "      <td>4.93</td>\n",
              "      <td>5.15</td>\n",
              "      <td>4.78</td>\n",
              "      <td>Y</td>\n",
              "      <td>TB</td>\n",
              "      <td>Y</td>\n",
              "      <td>1.972</td>\n",
              "      <td>2.060</td>\n",
              "      <td>1.912</td>\n",
              "      <td>0.0</td>\n",
              "    </tr>\n",
              "    <tr>\n",
              "      <th>98</th>\n",
              "      <td>97</td>\n",
              "      <td>97</td>\n",
              "      <td>8.8</td>\n",
              "      <td>5.5</td>\n",
              "      <td>7.4</td>\n",
              "      <td>7.7</td>\n",
              "      <td>6.2</td>\n",
              "      <td>7.3</td>\n",
              "      <td>8.1</td>\n",
              "      <td>4.5</td>\n",
              "      <td>9.5</td>\n",
              "      <td>7.3</td>\n",
              "      <td>6.0</td>\n",
              "      <td>8.4</td>\n",
              "      <td>7.0</td>\n",
              "      <td>8.4</td>\n",
              "      <td>8.8</td>\n",
              "      <td>6.5</td>\n",
              "      <td>9.5</td>\n",
              "      <td>6.6</td>\n",
              "      <td>6.4</td>\n",
              "      <td>7.6</td>\n",
              "      <td>7.0</td>\n",
              "      <td>9.6</td>\n",
              "      <td>9.3</td>\n",
              "      <td>6.7</td>\n",
              "      <td>8.5</td>\n",
              "      <td>6.9</td>\n",
              "      <td>5.8</td>\n",
              "      <td>8.4</td>\n",
              "      <td>8.0</td>\n",
              "      <td>8.9</td>\n",
              "      <td>9.6</td>\n",
              "      <td>7.1</td>\n",
              "      <td>9.0</td>\n",
              "      <td>7.1</td>\n",
              "      <td>6.7</td>\n",
              "      <td>5.7</td>\n",
              "      <td>6.9</td>\n",
              "      <td>8.6</td>\n",
              "      <td>8.6</td>\n",
              "      <td>5.9</td>\n",
              "      <td>8.5</td>\n",
              "      <td>7.1</td>\n",
              "      <td>6.2</td>\n",
              "      <td>8.6</td>\n",
              "      <td>7.0</td>\n",
              "      <td>9.6</td>\n",
              "      <td>8.4</td>\n",
              "      <td>5.8</td>\n",
              "      <td>M</td>\n",
              "      <td>0.0</td>\n",
              "      <td>2NT</td>\n",
              "      <td>7.00</td>\n",
              "      <td>8.00</td>\n",
              "      <td>4.00</td>\n",
              "      <td>C</td>\n",
              "      <td>7.05</td>\n",
              "      <td>7.84</td>\n",
              "      <td>7.92</td>\n",
              "      <td>K</td>\n",
              "      <td>K</td>\n",
              "      <td>K</td>\n",
              "      <td>2.820</td>\n",
              "      <td>3.136</td>\n",
              "      <td>3.168</td>\n",
              "      <td>1.0</td>\n",
              "    </tr>\n",
              "    <tr>\n",
              "      <th>99</th>\n",
              "      <td>98</td>\n",
              "      <td>98</td>\n",
              "      <td>2.7</td>\n",
              "      <td>1.8</td>\n",
              "      <td>3.4</td>\n",
              "      <td>5.3</td>\n",
              "      <td>4.5</td>\n",
              "      <td>7.9</td>\n",
              "      <td>4.9</td>\n",
              "      <td>3.8</td>\n",
              "      <td>2.8</td>\n",
              "      <td>5.7</td>\n",
              "      <td>5.1</td>\n",
              "      <td>5.0</td>\n",
              "      <td>5.5</td>\n",
              "      <td>6.6</td>\n",
              "      <td>3.9</td>\n",
              "      <td>4.3</td>\n",
              "      <td>6.2</td>\n",
              "      <td>6.9</td>\n",
              "      <td>7.6</td>\n",
              "      <td>6.3</td>\n",
              "      <td>4.7</td>\n",
              "      <td>7.4</td>\n",
              "      <td>5.9</td>\n",
              "      <td>5.7</td>\n",
              "      <td>5.2</td>\n",
              "      <td>5.1</td>\n",
              "      <td>6.8</td>\n",
              "      <td>5.6</td>\n",
              "      <td>3.8</td>\n",
              "      <td>5.9</td>\n",
              "      <td>6.7</td>\n",
              "      <td>4.4</td>\n",
              "      <td>4.1</td>\n",
              "      <td>5.3</td>\n",
              "      <td>5.7</td>\n",
              "      <td>4.6</td>\n",
              "      <td>5.0</td>\n",
              "      <td>5.9</td>\n",
              "      <td>5.3</td>\n",
              "      <td>4.5</td>\n",
              "      <td>4.3</td>\n",
              "      <td>5.6</td>\n",
              "      <td>6.3</td>\n",
              "      <td>4.7</td>\n",
              "      <td>5.0</td>\n",
              "      <td>6.6</td>\n",
              "      <td>5.2</td>\n",
              "      <td>5.9</td>\n",
              "      <td>M</td>\n",
              "      <td>0.0</td>\n",
              "      <td>1</td>\n",
              "      <td>5.00</td>\n",
              "      <td>3.50</td>\n",
              "      <td>5.50</td>\n",
              "      <td>C</td>\n",
              "      <td>4.15</td>\n",
              "      <td>4.72</td>\n",
              "      <td>6.16</td>\n",
              "      <td>Y</td>\n",
              "      <td>Y</td>\n",
              "      <td>TB</td>\n",
              "      <td>1.660</td>\n",
              "      <td>1.888</td>\n",
              "      <td>2.464</td>\n",
              "      <td>0.0</td>\n",
              "    </tr>\n",
              "    <tr>\n",
              "      <th>100</th>\n",
              "      <td>99</td>\n",
              "      <td>99</td>\n",
              "      <td>4.1</td>\n",
              "      <td>5.2</td>\n",
              "      <td>4.9</td>\n",
              "      <td>5.3</td>\n",
              "      <td>5.5</td>\n",
              "      <td>5.4</td>\n",
              "      <td>7.2</td>\n",
              "      <td>5.4</td>\n",
              "      <td>4.4</td>\n",
              "      <td>6.4</td>\n",
              "      <td>4.8</td>\n",
              "      <td>7.2</td>\n",
              "      <td>6.0</td>\n",
              "      <td>6.3</td>\n",
              "      <td>6.8</td>\n",
              "      <td>4.9</td>\n",
              "      <td>6.0</td>\n",
              "      <td>4.9</td>\n",
              "      <td>4.2</td>\n",
              "      <td>6.4</td>\n",
              "      <td>5.7</td>\n",
              "      <td>6.8</td>\n",
              "      <td>7.1</td>\n",
              "      <td>6.2</td>\n",
              "      <td>4.3</td>\n",
              "      <td>4.9</td>\n",
              "      <td>5.3</td>\n",
              "      <td>6.5</td>\n",
              "      <td>5.7</td>\n",
              "      <td>6.8</td>\n",
              "      <td>7.4</td>\n",
              "      <td>5.8</td>\n",
              "      <td>5.6</td>\n",
              "      <td>6.2</td>\n",
              "      <td>6.0</td>\n",
              "      <td>4.7</td>\n",
              "      <td>5.7</td>\n",
              "      <td>7.9</td>\n",
              "      <td>6.9</td>\n",
              "      <td>4.7</td>\n",
              "      <td>5.1</td>\n",
              "      <td>6.4</td>\n",
              "      <td>5.9</td>\n",
              "      <td>5.4</td>\n",
              "      <td>6.3</td>\n",
              "      <td>5.6</td>\n",
              "      <td>6.6</td>\n",
              "      <td>5.8</td>\n",
              "      <td>M</td>\n",
              "      <td>0.0</td>\n",
              "      <td>2NT</td>\n",
              "      <td>5.25</td>\n",
              "      <td>2.50</td>\n",
              "      <td>4.25</td>\n",
              "      <td>C</td>\n",
              "      <td>5.26</td>\n",
              "      <td>5.72</td>\n",
              "      <td>5.90</td>\n",
              "      <td>TB</td>\n",
              "      <td>TB</td>\n",
              "      <td>TB</td>\n",
              "      <td>2.104</td>\n",
              "      <td>2.288</td>\n",
              "      <td>2.360</td>\n",
              "      <td>0.0</td>\n",
              "    </tr>\n",
              "  </tbody>\n",
              "</table>\n",
              "<p>100 rows × 67 columns</p>\n",
              "</div>"
            ],
            "text/plain": [
              "     Unnamed: 0  Unnamed: 0.1   T1   L1  ...  US_TBM1  US_TBM2  US_TBM3  KQXT\n",
              "STT                                      ...                                 \n",
              "1             0             0  7.2  7.3  ...    2.800    3.016    2.824   0.0\n",
              "2             1             1  5.4  3.9  ...    1.876    2.188    1.880   0.0\n",
              "3             2             2  5.6  6.8  ...    2.308    2.152    1.732   1.0\n",
              "4             3             3  6.6  6.4  ...    2.484    2.080    2.412   0.0\n",
              "5             4             4  6.0  5.0  ...    2.600    2.544    2.804   0.0\n",
              "..          ...           ...  ...  ...  ...      ...      ...      ...   ...\n",
              "96           95            95  8.6  6.9  ...    2.972    2.968    2.816   0.0\n",
              "97           96            96  3.7  5.4  ...    1.972    2.060    1.912   0.0\n",
              "98           97            97  8.8  5.5  ...    2.820    3.136    3.168   1.0\n",
              "99           98            98  2.7  1.8  ...    1.660    1.888    2.464   0.0\n",
              "100          99            99  4.1  5.2  ...    2.104    2.288    2.360   0.0\n",
              "\n",
              "[100 rows x 67 columns]"
            ]
          },
          "metadata": {},
          "execution_count": 4
        }
      ]
    },
    {
      "cell_type": "markdown",
      "metadata": {
        "id": "Xm3A1t1sGTiI"
      },
      "source": [
        "#**Phần 1**:\n",
        "\n",
        " **Thống kê dữ liệu**\n",
        "\n",
        "1. Hãy sắp xếp dữ liệu điểm DH1 theo thứ tự tăng dần\n",
        "2. Hãy sắp xếp dữ liệu điểm DH2 tăng dần theo nhóm giới tính\n",
        "3. Hãy tạo pivot-table để thống kê các giá trị count, sum, mean, median, min, max, sdt, Q1, Q2 và Q3 của DH1 theo KT\n",
        "4. Hãy tạo pivot-table để thống kê các giá trị count, sum, mean, median, min, max, sdt, Q1, Q2 và Q3 của DH1 theo KT và KV\n",
        "5. Hãy tạo pivot-table để thống kê các giá trị count, sum, mean, median, min, max, sdt, Q1, Q2 và Q3 của DH1 theo KT, KV và DT\n"
      ]
    },
    {
      "cell_type": "markdown",
      "metadata": {
        "id": "Dc6HLFtmQwg6"
      },
      "source": [
        "*1.Hãy sắp xếp dữ liệu điểm DH1 theo thứ tự tăng dần*"
      ]
    },
    {
      "cell_type": "code",
      "metadata": {
        "id": "QVw3yqnMRCtr",
        "colab": {
          "base_uri": "https://localhost:8080/"
        },
        "outputId": "349a9218-64d4-4bff-905f-c3a7a178373e"
      },
      "source": [
        "sorted_df_DH1=df[\"DH1\"].sort_values()\n",
        "print(sorted_df_DH1)"
      ],
      "execution_count": 4,
      "outputs": [
        {
          "output_type": "stream",
          "name": "stdout",
          "text": [
            "STT\n",
            "54    1.00\n",
            "44    1.25\n",
            "73    1.50\n",
            "6     1.50\n",
            "88    1.75\n",
            "      ... \n",
            "85    6.50\n",
            "12    6.75\n",
            "24    6.75\n",
            "25    7.00\n",
            "98    7.00\n",
            "Name: DH1, Length: 100, dtype: float64\n"
          ]
        }
      ]
    },
    {
      "cell_type": "markdown",
      "metadata": {
        "id": "H_6HIklQTJZ2"
      },
      "source": [
        "*2. Hãy sắp xếp dữ liệu điểm DH2 tăng dần theo nhóm giới tính*"
      ]
    },
    {
      "cell_type": "code",
      "metadata": {
        "id": "2eIl-HEFQ0im",
        "colab": {
          "base_uri": "https://localhost:8080/"
        },
        "outputId": "97eae2ee-4142-4e83-d18d-86c62594f2a9"
      },
      "source": [
        "sorted_df_DH2= df.sort_values(by=[\"DH2\",\"GT\"],ascending=[True,True])\n",
        "print(sorted_df_DH2)"
      ],
      "execution_count": 5,
      "outputs": [
        {
          "output_type": "stream",
          "name": "stdout",
          "text": [
            "     Unnamed: 0  Unnamed: 0.1   T1   L1  ...  US_TBM1  US_TBM2  US_TBM3  KQXT\n",
            "STT                                      ...                                 \n",
            "96           95            95  8.6  6.9  ...    2.972    2.968    2.816   0.0\n",
            "26           25            25  3.6  5.8  ...    2.160    2.080    2.008   0.0\n",
            "25           24            24  2.4  4.1  ...    1.780    1.952    2.124   0.0\n",
            "47           46            46  6.7  6.8  ...    2.596    2.604    2.780   0.0\n",
            "95           94            94  5.8  5.9  ...    2.440    2.684    2.748   0.0\n",
            "..          ...           ...  ...  ...  ...      ...      ...      ...   ...\n",
            "12           11            11  7.9  7.0  ...    2.972    3.088    2.996   1.0\n",
            "48           47            47  7.9  7.6  ...    3.068    2.996    2.904   1.0\n",
            "7             6             6  2.8  3.9  ...    1.960    2.240    2.096   1.0\n",
            "3             2             2  5.6  6.8  ...    2.308    2.152    1.732   1.0\n",
            "98           97            97  8.8  5.5  ...    2.820    3.136    3.168   1.0\n",
            "\n",
            "[100 rows x 67 columns]\n"
          ]
        }
      ]
    },
    {
      "cell_type": "markdown",
      "metadata": {
        "id": "pKicXC_fXpKM"
      },
      "source": [
        "*3. Hãy tạo pivot-table để thống kê các giá trị count, sum, mean, median, min, max, sdt, Q1, Q2 và Q3 của DH1 theo KT*"
      ]
    },
    {
      "cell_type": "code",
      "metadata": {
        "id": "FYGZ3xOO7VNK"
      },
      "source": [
        "# Tạo các hàm\n",
        "def Q1(g):\n",
        "  return np.percentile(g,25)\n",
        "def Q2(g):\n",
        "  return np.percentile(g,50)\n",
        "def Q3(g):\n",
        "  return np.percentile(g,75)\n",
        "def std(g):\n",
        "  return np.std(g)"
      ],
      "execution_count": 6,
      "outputs": []
    },
    {
      "cell_type": "code",
      "metadata": {
        "id": "WTUhEQmNp708",
        "colab": {
          "base_uri": "https://localhost:8080/",
          "height": 269
        },
        "outputId": "90509784-953a-413f-c6e4-ada1c3e0783c"
      },
      "source": [
        "# Thống kê giá trị bằng pivot_table\n",
        "pivotKT_DH1 = pd.pivot_table(df, values='DH1', index=['KT'],aggfunc=['count','sum','median','min','max','std',Q1,Q2,Q3])\n",
        "pivotKT_DH1"
      ],
      "execution_count": 7,
      "outputs": [
        {
          "output_type": "execute_result",
          "data": {
            "text/html": [
              "<div>\n",
              "<style scoped>\n",
              "    .dataframe tbody tr th:only-of-type {\n",
              "        vertical-align: middle;\n",
              "    }\n",
              "\n",
              "    .dataframe tbody tr th {\n",
              "        vertical-align: top;\n",
              "    }\n",
              "\n",
              "    .dataframe thead tr th {\n",
              "        text-align: left;\n",
              "    }\n",
              "\n",
              "    .dataframe thead tr:last-of-type th {\n",
              "        text-align: right;\n",
              "    }\n",
              "</style>\n",
              "<table border=\"1\" class=\"dataframe\">\n",
              "  <thead>\n",
              "    <tr>\n",
              "      <th></th>\n",
              "      <th>count</th>\n",
              "      <th>sum</th>\n",
              "      <th>median</th>\n",
              "      <th>min</th>\n",
              "      <th>max</th>\n",
              "      <th>std</th>\n",
              "      <th>Q1</th>\n",
              "      <th>Q2</th>\n",
              "      <th>Q3</th>\n",
              "    </tr>\n",
              "    <tr>\n",
              "      <th></th>\n",
              "      <th>DH1</th>\n",
              "      <th>DH1</th>\n",
              "      <th>DH1</th>\n",
              "      <th>DH1</th>\n",
              "      <th>DH1</th>\n",
              "      <th>DH1</th>\n",
              "      <th>DH1</th>\n",
              "      <th>DH1</th>\n",
              "      <th>DH1</th>\n",
              "    </tr>\n",
              "    <tr>\n",
              "      <th>KT</th>\n",
              "      <th></th>\n",
              "      <th></th>\n",
              "      <th></th>\n",
              "      <th></th>\n",
              "      <th></th>\n",
              "      <th></th>\n",
              "      <th></th>\n",
              "      <th></th>\n",
              "      <th></th>\n",
              "    </tr>\n",
              "  </thead>\n",
              "  <tbody>\n",
              "    <tr>\n",
              "      <th>A</th>\n",
              "      <td>49</td>\n",
              "      <td>163.50</td>\n",
              "      <td>3.25</td>\n",
              "      <td>1.00</td>\n",
              "      <td>6.50</td>\n",
              "      <td>1.274296</td>\n",
              "      <td>2.2500</td>\n",
              "      <td>3.25</td>\n",
              "      <td>4.250</td>\n",
              "    </tr>\n",
              "    <tr>\n",
              "      <th>A1</th>\n",
              "      <td>6</td>\n",
              "      <td>17.50</td>\n",
              "      <td>3.00</td>\n",
              "      <td>2.00</td>\n",
              "      <td>4.25</td>\n",
              "      <td>0.861201</td>\n",
              "      <td>2.1875</td>\n",
              "      <td>3.00</td>\n",
              "      <td>3.250</td>\n",
              "    </tr>\n",
              "    <tr>\n",
              "      <th>B</th>\n",
              "      <td>9</td>\n",
              "      <td>29.50</td>\n",
              "      <td>3.50</td>\n",
              "      <td>1.75</td>\n",
              "      <td>4.50</td>\n",
              "      <td>0.823905</td>\n",
              "      <td>3.2500</td>\n",
              "      <td>3.50</td>\n",
              "      <td>3.750</td>\n",
              "    </tr>\n",
              "    <tr>\n",
              "      <th>C</th>\n",
              "      <td>14</td>\n",
              "      <td>79.25</td>\n",
              "      <td>5.25</td>\n",
              "      <td>4.75</td>\n",
              "      <td>7.00</td>\n",
              "      <td>0.812209</td>\n",
              "      <td>5.0625</td>\n",
              "      <td>5.25</td>\n",
              "      <td>6.375</td>\n",
              "    </tr>\n",
              "    <tr>\n",
              "      <th>D1</th>\n",
              "      <td>22</td>\n",
              "      <td>84.25</td>\n",
              "      <td>3.75</td>\n",
              "      <td>1.25</td>\n",
              "      <td>6.75</td>\n",
              "      <td>1.370146</td>\n",
              "      <td>3.0000</td>\n",
              "      <td>3.75</td>\n",
              "      <td>4.875</td>\n",
              "    </tr>\n",
              "  </tbody>\n",
              "</table>\n",
              "</div>"
            ],
            "text/plain": [
              "   count     sum median   min   max       std      Q1    Q2     Q3\n",
              "     DH1     DH1    DH1   DH1   DH1       DH1     DH1   DH1    DH1\n",
              "KT                                                                \n",
              "A     49  163.50   3.25  1.00  6.50  1.274296  2.2500  3.25  4.250\n",
              "A1     6   17.50   3.00  2.00  4.25  0.861201  2.1875  3.00  3.250\n",
              "B      9   29.50   3.50  1.75  4.50  0.823905  3.2500  3.50  3.750\n",
              "C     14   79.25   5.25  4.75  7.00  0.812209  5.0625  5.25  6.375\n",
              "D1    22   84.25   3.75  1.25  6.75  1.370146  3.0000  3.75  4.875"
            ]
          },
          "metadata": {},
          "execution_count": 7
        }
      ]
    },
    {
      "cell_type": "code",
      "metadata": {
        "colab": {
          "base_uri": "https://localhost:8080/",
          "height": 238
        },
        "id": "r4eUIpImnOE-",
        "outputId": "55f0b6a5-6b21-4c49-b1f7-5a122d0ab241"
      },
      "source": [
        "# Thống kê các giá trị bằng group\n",
        "groupKT_DH1= df.groupby([\"KT\"])[\"DH1\"].agg([\"count\",\"sum\", \"mean\", \"median\", \"min\", \"max\", std, Q1, Q2, Q3])\n",
        "groupKT_DH1"
      ],
      "execution_count": 8,
      "outputs": [
        {
          "output_type": "execute_result",
          "data": {
            "text/html": [
              "<div>\n",
              "<style scoped>\n",
              "    .dataframe tbody tr th:only-of-type {\n",
              "        vertical-align: middle;\n",
              "    }\n",
              "\n",
              "    .dataframe tbody tr th {\n",
              "        vertical-align: top;\n",
              "    }\n",
              "\n",
              "    .dataframe thead th {\n",
              "        text-align: right;\n",
              "    }\n",
              "</style>\n",
              "<table border=\"1\" class=\"dataframe\">\n",
              "  <thead>\n",
              "    <tr style=\"text-align: right;\">\n",
              "      <th></th>\n",
              "      <th>count</th>\n",
              "      <th>sum</th>\n",
              "      <th>mean</th>\n",
              "      <th>median</th>\n",
              "      <th>min</th>\n",
              "      <th>max</th>\n",
              "      <th>std</th>\n",
              "      <th>Q1</th>\n",
              "      <th>Q2</th>\n",
              "      <th>Q3</th>\n",
              "    </tr>\n",
              "    <tr>\n",
              "      <th>KT</th>\n",
              "      <th></th>\n",
              "      <th></th>\n",
              "      <th></th>\n",
              "      <th></th>\n",
              "      <th></th>\n",
              "      <th></th>\n",
              "      <th></th>\n",
              "      <th></th>\n",
              "      <th></th>\n",
              "      <th></th>\n",
              "    </tr>\n",
              "  </thead>\n",
              "  <tbody>\n",
              "    <tr>\n",
              "      <th>A</th>\n",
              "      <td>49</td>\n",
              "      <td>163.50</td>\n",
              "      <td>3.336735</td>\n",
              "      <td>3.25</td>\n",
              "      <td>1.00</td>\n",
              "      <td>6.50</td>\n",
              "      <td>1.261226</td>\n",
              "      <td>2.2500</td>\n",
              "      <td>3.25</td>\n",
              "      <td>4.250</td>\n",
              "    </tr>\n",
              "    <tr>\n",
              "      <th>A1</th>\n",
              "      <td>6</td>\n",
              "      <td>17.50</td>\n",
              "      <td>2.916667</td>\n",
              "      <td>3.00</td>\n",
              "      <td>2.00</td>\n",
              "      <td>4.25</td>\n",
              "      <td>0.786165</td>\n",
              "      <td>2.1875</td>\n",
              "      <td>3.00</td>\n",
              "      <td>3.250</td>\n",
              "    </tr>\n",
              "    <tr>\n",
              "      <th>B</th>\n",
              "      <td>9</td>\n",
              "      <td>29.50</td>\n",
              "      <td>3.277778</td>\n",
              "      <td>3.50</td>\n",
              "      <td>1.75</td>\n",
              "      <td>4.50</td>\n",
              "      <td>0.776785</td>\n",
              "      <td>3.2500</td>\n",
              "      <td>3.50</td>\n",
              "      <td>3.750</td>\n",
              "    </tr>\n",
              "    <tr>\n",
              "      <th>C</th>\n",
              "      <td>14</td>\n",
              "      <td>79.25</td>\n",
              "      <td>5.660714</td>\n",
              "      <td>5.25</td>\n",
              "      <td>4.75</td>\n",
              "      <td>7.00</td>\n",
              "      <td>0.782665</td>\n",
              "      <td>5.0625</td>\n",
              "      <td>5.25</td>\n",
              "      <td>6.375</td>\n",
              "    </tr>\n",
              "    <tr>\n",
              "      <th>D1</th>\n",
              "      <td>22</td>\n",
              "      <td>84.25</td>\n",
              "      <td>3.829545</td>\n",
              "      <td>3.75</td>\n",
              "      <td>1.25</td>\n",
              "      <td>6.75</td>\n",
              "      <td>1.338644</td>\n",
              "      <td>3.0000</td>\n",
              "      <td>3.75</td>\n",
              "      <td>4.875</td>\n",
              "    </tr>\n",
              "  </tbody>\n",
              "</table>\n",
              "</div>"
            ],
            "text/plain": [
              "    count     sum      mean  median   min   max       std      Q1    Q2     Q3\n",
              "KT                                                                            \n",
              "A      49  163.50  3.336735    3.25  1.00  6.50  1.261226  2.2500  3.25  4.250\n",
              "A1      6   17.50  2.916667    3.00  2.00  4.25  0.786165  2.1875  3.00  3.250\n",
              "B       9   29.50  3.277778    3.50  1.75  4.50  0.776785  3.2500  3.50  3.750\n",
              "C      14   79.25  5.660714    5.25  4.75  7.00  0.782665  5.0625  5.25  6.375\n",
              "D1     22   84.25  3.829545    3.75  1.25  6.75  1.338644  3.0000  3.75  4.875"
            ]
          },
          "metadata": {},
          "execution_count": 8
        }
      ]
    },
    {
      "cell_type": "markdown",
      "metadata": {
        "id": "s-BW65mXdyyT"
      },
      "source": [
        "*4. Hãy tạo pivot-table để thống kê các giá trị count, sum, mean, median, min, max, sdt, Q1, Q2 và Q3 của DH1 theo KT và KV*"
      ]
    },
    {
      "cell_type": "code",
      "metadata": {
        "id": "wkdoLzTD7kAq",
        "colab": {
          "base_uri": "https://localhost:8080/",
          "height": 520
        },
        "outputId": "0f57fd07-f18a-4ef7-92dd-16ddd2b59f28"
      },
      "source": [
        "# Thống kê giá trị bằng pivot_table\n",
        "pivotKT_KV_DH1 = pd.pivot_table(df, values='DH1', index=['KT','KV'],aggfunc=['count','sum','median','min','max','std',Q1,Q2,Q3])\n",
        "pivotKT_KV_DH1"
      ],
      "execution_count": 9,
      "outputs": [
        {
          "output_type": "execute_result",
          "data": {
            "text/html": [
              "<div>\n",
              "<style scoped>\n",
              "    .dataframe tbody tr th:only-of-type {\n",
              "        vertical-align: middle;\n",
              "    }\n",
              "\n",
              "    .dataframe tbody tr th {\n",
              "        vertical-align: top;\n",
              "    }\n",
              "\n",
              "    .dataframe thead tr th {\n",
              "        text-align: left;\n",
              "    }\n",
              "\n",
              "    .dataframe thead tr:last-of-type th {\n",
              "        text-align: right;\n",
              "    }\n",
              "</style>\n",
              "<table border=\"1\" class=\"dataframe\">\n",
              "  <thead>\n",
              "    <tr>\n",
              "      <th></th>\n",
              "      <th></th>\n",
              "      <th>count</th>\n",
              "      <th>sum</th>\n",
              "      <th>median</th>\n",
              "      <th>min</th>\n",
              "      <th>max</th>\n",
              "      <th>std</th>\n",
              "      <th>Q1</th>\n",
              "      <th>Q2</th>\n",
              "      <th>Q3</th>\n",
              "    </tr>\n",
              "    <tr>\n",
              "      <th></th>\n",
              "      <th></th>\n",
              "      <th>DH1</th>\n",
              "      <th>DH1</th>\n",
              "      <th>DH1</th>\n",
              "      <th>DH1</th>\n",
              "      <th>DH1</th>\n",
              "      <th>DH1</th>\n",
              "      <th>DH1</th>\n",
              "      <th>DH1</th>\n",
              "      <th>DH1</th>\n",
              "    </tr>\n",
              "    <tr>\n",
              "      <th>KT</th>\n",
              "      <th>KV</th>\n",
              "      <th></th>\n",
              "      <th></th>\n",
              "      <th></th>\n",
              "      <th></th>\n",
              "      <th></th>\n",
              "      <th></th>\n",
              "      <th></th>\n",
              "      <th></th>\n",
              "      <th></th>\n",
              "    </tr>\n",
              "  </thead>\n",
              "  <tbody>\n",
              "    <tr>\n",
              "      <th rowspan=\"3\" valign=\"top\">A</th>\n",
              "      <th>1</th>\n",
              "      <td>29</td>\n",
              "      <td>93.75</td>\n",
              "      <td>3.250</td>\n",
              "      <td>1.00</td>\n",
              "      <td>6.50</td>\n",
              "      <td>1.369194</td>\n",
              "      <td>2.0000</td>\n",
              "      <td>3.250</td>\n",
              "      <td>4.2500</td>\n",
              "    </tr>\n",
              "    <tr>\n",
              "      <th>2</th>\n",
              "      <td>9</td>\n",
              "      <td>31.75</td>\n",
              "      <td>3.500</td>\n",
              "      <td>2.00</td>\n",
              "      <td>6.25</td>\n",
              "      <td>1.427653</td>\n",
              "      <td>2.2500</td>\n",
              "      <td>3.500</td>\n",
              "      <td>4.2500</td>\n",
              "    </tr>\n",
              "    <tr>\n",
              "      <th>2NT</th>\n",
              "      <td>11</td>\n",
              "      <td>38.00</td>\n",
              "      <td>3.500</td>\n",
              "      <td>2.00</td>\n",
              "      <td>4.75</td>\n",
              "      <td>0.913908</td>\n",
              "      <td>2.8750</td>\n",
              "      <td>3.500</td>\n",
              "      <td>4.1250</td>\n",
              "    </tr>\n",
              "    <tr>\n",
              "      <th rowspan=\"2\" valign=\"top\">A1</th>\n",
              "      <th>1</th>\n",
              "      <td>2</td>\n",
              "      <td>4.75</td>\n",
              "      <td>2.375</td>\n",
              "      <td>2.00</td>\n",
              "      <td>2.75</td>\n",
              "      <td>0.530330</td>\n",
              "      <td>2.1875</td>\n",
              "      <td>2.375</td>\n",
              "      <td>2.5625</td>\n",
              "    </tr>\n",
              "    <tr>\n",
              "      <th>2NT</th>\n",
              "      <td>4</td>\n",
              "      <td>12.75</td>\n",
              "      <td>3.250</td>\n",
              "      <td>2.00</td>\n",
              "      <td>4.25</td>\n",
              "      <td>0.921389</td>\n",
              "      <td>2.9375</td>\n",
              "      <td>3.250</td>\n",
              "      <td>3.5000</td>\n",
              "    </tr>\n",
              "    <tr>\n",
              "      <th rowspan=\"2\" valign=\"top\">B</th>\n",
              "      <th>1</th>\n",
              "      <td>8</td>\n",
              "      <td>25.75</td>\n",
              "      <td>3.375</td>\n",
              "      <td>1.75</td>\n",
              "      <td>4.50</td>\n",
              "      <td>0.860207</td>\n",
              "      <td>3.0000</td>\n",
              "      <td>3.375</td>\n",
              "      <td>3.5625</td>\n",
              "    </tr>\n",
              "    <tr>\n",
              "      <th>2NT</th>\n",
              "      <td>1</td>\n",
              "      <td>3.75</td>\n",
              "      <td>3.750</td>\n",
              "      <td>3.75</td>\n",
              "      <td>3.75</td>\n",
              "      <td>NaN</td>\n",
              "      <td>3.7500</td>\n",
              "      <td>3.750</td>\n",
              "      <td>3.7500</td>\n",
              "    </tr>\n",
              "    <tr>\n",
              "      <th rowspan=\"3\" valign=\"top\">C</th>\n",
              "      <th>1</th>\n",
              "      <td>8</td>\n",
              "      <td>43.50</td>\n",
              "      <td>5.250</td>\n",
              "      <td>4.75</td>\n",
              "      <td>7.00</td>\n",
              "      <td>0.728869</td>\n",
              "      <td>5.0000</td>\n",
              "      <td>5.250</td>\n",
              "      <td>5.4375</td>\n",
              "    </tr>\n",
              "    <tr>\n",
              "      <th>2</th>\n",
              "      <td>2</td>\n",
              "      <td>11.50</td>\n",
              "      <td>5.750</td>\n",
              "      <td>5.00</td>\n",
              "      <td>6.50</td>\n",
              "      <td>1.060660</td>\n",
              "      <td>5.3750</td>\n",
              "      <td>5.750</td>\n",
              "      <td>6.1250</td>\n",
              "    </tr>\n",
              "    <tr>\n",
              "      <th>2NT</th>\n",
              "      <td>4</td>\n",
              "      <td>24.25</td>\n",
              "      <td>6.000</td>\n",
              "      <td>5.25</td>\n",
              "      <td>7.00</td>\n",
              "      <td>0.943729</td>\n",
              "      <td>5.2500</td>\n",
              "      <td>6.000</td>\n",
              "      <td>6.8125</td>\n",
              "    </tr>\n",
              "    <tr>\n",
              "      <th rowspan=\"3\" valign=\"top\">D1</th>\n",
              "      <th>1</th>\n",
              "      <td>13</td>\n",
              "      <td>46.75</td>\n",
              "      <td>3.500</td>\n",
              "      <td>1.50</td>\n",
              "      <td>5.75</td>\n",
              "      <td>1.264658</td>\n",
              "      <td>2.7500</td>\n",
              "      <td>3.500</td>\n",
              "      <td>4.2500</td>\n",
              "    </tr>\n",
              "    <tr>\n",
              "      <th>2</th>\n",
              "      <td>8</td>\n",
              "      <td>33.75</td>\n",
              "      <td>4.500</td>\n",
              "      <td>1.25</td>\n",
              "      <td>6.75</td>\n",
              "      <td>1.617082</td>\n",
              "      <td>3.5625</td>\n",
              "      <td>4.500</td>\n",
              "      <td>5.0000</td>\n",
              "    </tr>\n",
              "    <tr>\n",
              "      <th>2NT</th>\n",
              "      <td>1</td>\n",
              "      <td>3.75</td>\n",
              "      <td>3.750</td>\n",
              "      <td>3.75</td>\n",
              "      <td>3.75</td>\n",
              "      <td>NaN</td>\n",
              "      <td>3.7500</td>\n",
              "      <td>3.750</td>\n",
              "      <td>3.7500</td>\n",
              "    </tr>\n",
              "  </tbody>\n",
              "</table>\n",
              "</div>"
            ],
            "text/plain": [
              "       count    sum median   min   max       std      Q1     Q2      Q3\n",
              "         DH1    DH1    DH1   DH1   DH1       DH1     DH1    DH1     DH1\n",
              "KT KV                                                                  \n",
              "A  1      29  93.75  3.250  1.00  6.50  1.369194  2.0000  3.250  4.2500\n",
              "   2       9  31.75  3.500  2.00  6.25  1.427653  2.2500  3.500  4.2500\n",
              "   2NT    11  38.00  3.500  2.00  4.75  0.913908  2.8750  3.500  4.1250\n",
              "A1 1       2   4.75  2.375  2.00  2.75  0.530330  2.1875  2.375  2.5625\n",
              "   2NT     4  12.75  3.250  2.00  4.25  0.921389  2.9375  3.250  3.5000\n",
              "B  1       8  25.75  3.375  1.75  4.50  0.860207  3.0000  3.375  3.5625\n",
              "   2NT     1   3.75  3.750  3.75  3.75       NaN  3.7500  3.750  3.7500\n",
              "C  1       8  43.50  5.250  4.75  7.00  0.728869  5.0000  5.250  5.4375\n",
              "   2       2  11.50  5.750  5.00  6.50  1.060660  5.3750  5.750  6.1250\n",
              "   2NT     4  24.25  6.000  5.25  7.00  0.943729  5.2500  6.000  6.8125\n",
              "D1 1      13  46.75  3.500  1.50  5.75  1.264658  2.7500  3.500  4.2500\n",
              "   2       8  33.75  4.500  1.25  6.75  1.617082  3.5625  4.500  5.0000\n",
              "   2NT     1   3.75  3.750  3.75  3.75       NaN  3.7500  3.750  3.7500"
            ]
          },
          "metadata": {},
          "execution_count": 9
        }
      ]
    },
    {
      "cell_type": "code",
      "metadata": {
        "id": "lEBo3fMRrbT9",
        "colab": {
          "base_uri": "https://localhost:8080/",
          "height": 488
        },
        "outputId": "14dba70d-a96d-4551-ff6f-7384e7e00843"
      },
      "source": [
        "# Thống kê các giái trị bằng group\n",
        "groupKT_KV_DH1= df.groupby([\"KT\",\"KV\"])[\"DH1\"].agg([\"count\",\"sum\", \"mean\", \"median\", \"min\", \"max\", std, Q1, Q2, Q3])\n",
        "groupKT_KV_DH1"
      ],
      "execution_count": 10,
      "outputs": [
        {
          "output_type": "execute_result",
          "data": {
            "text/html": [
              "<div>\n",
              "<style scoped>\n",
              "    .dataframe tbody tr th:only-of-type {\n",
              "        vertical-align: middle;\n",
              "    }\n",
              "\n",
              "    .dataframe tbody tr th {\n",
              "        vertical-align: top;\n",
              "    }\n",
              "\n",
              "    .dataframe thead th {\n",
              "        text-align: right;\n",
              "    }\n",
              "</style>\n",
              "<table border=\"1\" class=\"dataframe\">\n",
              "  <thead>\n",
              "    <tr style=\"text-align: right;\">\n",
              "      <th></th>\n",
              "      <th></th>\n",
              "      <th>count</th>\n",
              "      <th>sum</th>\n",
              "      <th>mean</th>\n",
              "      <th>median</th>\n",
              "      <th>min</th>\n",
              "      <th>max</th>\n",
              "      <th>std</th>\n",
              "      <th>Q1</th>\n",
              "      <th>Q2</th>\n",
              "      <th>Q3</th>\n",
              "    </tr>\n",
              "    <tr>\n",
              "      <th>KT</th>\n",
              "      <th>KV</th>\n",
              "      <th></th>\n",
              "      <th></th>\n",
              "      <th></th>\n",
              "      <th></th>\n",
              "      <th></th>\n",
              "      <th></th>\n",
              "      <th></th>\n",
              "      <th></th>\n",
              "      <th></th>\n",
              "      <th></th>\n",
              "    </tr>\n",
              "  </thead>\n",
              "  <tbody>\n",
              "    <tr>\n",
              "      <th rowspan=\"3\" valign=\"top\">A</th>\n",
              "      <th>1</th>\n",
              "      <td>29</td>\n",
              "      <td>93.75</td>\n",
              "      <td>3.232759</td>\n",
              "      <td>3.250</td>\n",
              "      <td>1.00</td>\n",
              "      <td>6.50</td>\n",
              "      <td>1.345380</td>\n",
              "      <td>2.0000</td>\n",
              "      <td>3.250</td>\n",
              "      <td>4.2500</td>\n",
              "    </tr>\n",
              "    <tr>\n",
              "      <th>2</th>\n",
              "      <td>9</td>\n",
              "      <td>31.75</td>\n",
              "      <td>3.527778</td>\n",
              "      <td>3.500</td>\n",
              "      <td>2.00</td>\n",
              "      <td>6.25</td>\n",
              "      <td>1.346005</td>\n",
              "      <td>2.2500</td>\n",
              "      <td>3.500</td>\n",
              "      <td>4.2500</td>\n",
              "    </tr>\n",
              "    <tr>\n",
              "      <th>2NT</th>\n",
              "      <td>11</td>\n",
              "      <td>38.00</td>\n",
              "      <td>3.454545</td>\n",
              "      <td>3.500</td>\n",
              "      <td>2.00</td>\n",
              "      <td>4.75</td>\n",
              "      <td>0.871377</td>\n",
              "      <td>2.8750</td>\n",
              "      <td>3.500</td>\n",
              "      <td>4.1250</td>\n",
              "    </tr>\n",
              "    <tr>\n",
              "      <th rowspan=\"2\" valign=\"top\">A1</th>\n",
              "      <th>1</th>\n",
              "      <td>2</td>\n",
              "      <td>4.75</td>\n",
              "      <td>2.375000</td>\n",
              "      <td>2.375</td>\n",
              "      <td>2.00</td>\n",
              "      <td>2.75</td>\n",
              "      <td>0.375000</td>\n",
              "      <td>2.1875</td>\n",
              "      <td>2.375</td>\n",
              "      <td>2.5625</td>\n",
              "    </tr>\n",
              "    <tr>\n",
              "      <th>2NT</th>\n",
              "      <td>4</td>\n",
              "      <td>12.75</td>\n",
              "      <td>3.187500</td>\n",
              "      <td>3.250</td>\n",
              "      <td>2.00</td>\n",
              "      <td>4.25</td>\n",
              "      <td>0.797947</td>\n",
              "      <td>2.9375</td>\n",
              "      <td>3.250</td>\n",
              "      <td>3.5000</td>\n",
              "    </tr>\n",
              "    <tr>\n",
              "      <th rowspan=\"2\" valign=\"top\">B</th>\n",
              "      <th>1</th>\n",
              "      <td>8</td>\n",
              "      <td>25.75</td>\n",
              "      <td>3.218750</td>\n",
              "      <td>3.375</td>\n",
              "      <td>1.75</td>\n",
              "      <td>4.50</td>\n",
              "      <td>0.804650</td>\n",
              "      <td>3.0000</td>\n",
              "      <td>3.375</td>\n",
              "      <td>3.5625</td>\n",
              "    </tr>\n",
              "    <tr>\n",
              "      <th>2NT</th>\n",
              "      <td>1</td>\n",
              "      <td>3.75</td>\n",
              "      <td>3.750000</td>\n",
              "      <td>3.750</td>\n",
              "      <td>3.75</td>\n",
              "      <td>3.75</td>\n",
              "      <td>0.000000</td>\n",
              "      <td>3.7500</td>\n",
              "      <td>3.750</td>\n",
              "      <td>3.7500</td>\n",
              "    </tr>\n",
              "    <tr>\n",
              "      <th rowspan=\"3\" valign=\"top\">C</th>\n",
              "      <th>1</th>\n",
              "      <td>8</td>\n",
              "      <td>43.50</td>\n",
              "      <td>5.437500</td>\n",
              "      <td>5.250</td>\n",
              "      <td>4.75</td>\n",
              "      <td>7.00</td>\n",
              "      <td>0.681795</td>\n",
              "      <td>5.0000</td>\n",
              "      <td>5.250</td>\n",
              "      <td>5.4375</td>\n",
              "    </tr>\n",
              "    <tr>\n",
              "      <th>2</th>\n",
              "      <td>2</td>\n",
              "      <td>11.50</td>\n",
              "      <td>5.750000</td>\n",
              "      <td>5.750</td>\n",
              "      <td>5.00</td>\n",
              "      <td>6.50</td>\n",
              "      <td>0.750000</td>\n",
              "      <td>5.3750</td>\n",
              "      <td>5.750</td>\n",
              "      <td>6.1250</td>\n",
              "    </tr>\n",
              "    <tr>\n",
              "      <th>2NT</th>\n",
              "      <td>4</td>\n",
              "      <td>24.25</td>\n",
              "      <td>6.062500</td>\n",
              "      <td>6.000</td>\n",
              "      <td>5.25</td>\n",
              "      <td>7.00</td>\n",
              "      <td>0.817294</td>\n",
              "      <td>5.2500</td>\n",
              "      <td>6.000</td>\n",
              "      <td>6.8125</td>\n",
              "    </tr>\n",
              "    <tr>\n",
              "      <th rowspan=\"3\" valign=\"top\">D1</th>\n",
              "      <th>1</th>\n",
              "      <td>13</td>\n",
              "      <td>46.75</td>\n",
              "      <td>3.596154</td>\n",
              "      <td>3.500</td>\n",
              "      <td>1.50</td>\n",
              "      <td>5.75</td>\n",
              "      <td>1.215044</td>\n",
              "      <td>2.7500</td>\n",
              "      <td>3.500</td>\n",
              "      <td>4.2500</td>\n",
              "    </tr>\n",
              "    <tr>\n",
              "      <th>2</th>\n",
              "      <td>8</td>\n",
              "      <td>33.75</td>\n",
              "      <td>4.218750</td>\n",
              "      <td>4.500</td>\n",
              "      <td>1.25</td>\n",
              "      <td>6.75</td>\n",
              "      <td>1.512642</td>\n",
              "      <td>3.5625</td>\n",
              "      <td>4.500</td>\n",
              "      <td>5.0000</td>\n",
              "    </tr>\n",
              "    <tr>\n",
              "      <th>2NT</th>\n",
              "      <td>1</td>\n",
              "      <td>3.75</td>\n",
              "      <td>3.750000</td>\n",
              "      <td>3.750</td>\n",
              "      <td>3.75</td>\n",
              "      <td>3.75</td>\n",
              "      <td>0.000000</td>\n",
              "      <td>3.7500</td>\n",
              "      <td>3.750</td>\n",
              "      <td>3.7500</td>\n",
              "    </tr>\n",
              "  </tbody>\n",
              "</table>\n",
              "</div>"
            ],
            "text/plain": [
              "        count    sum      mean  median  ...       std      Q1     Q2      Q3\n",
              "KT KV                                   ...                                 \n",
              "A  1       29  93.75  3.232759   3.250  ...  1.345380  2.0000  3.250  4.2500\n",
              "   2        9  31.75  3.527778   3.500  ...  1.346005  2.2500  3.500  4.2500\n",
              "   2NT     11  38.00  3.454545   3.500  ...  0.871377  2.8750  3.500  4.1250\n",
              "A1 1        2   4.75  2.375000   2.375  ...  0.375000  2.1875  2.375  2.5625\n",
              "   2NT      4  12.75  3.187500   3.250  ...  0.797947  2.9375  3.250  3.5000\n",
              "B  1        8  25.75  3.218750   3.375  ...  0.804650  3.0000  3.375  3.5625\n",
              "   2NT      1   3.75  3.750000   3.750  ...  0.000000  3.7500  3.750  3.7500\n",
              "C  1        8  43.50  5.437500   5.250  ...  0.681795  5.0000  5.250  5.4375\n",
              "   2        2  11.50  5.750000   5.750  ...  0.750000  5.3750  5.750  6.1250\n",
              "   2NT      4  24.25  6.062500   6.000  ...  0.817294  5.2500  6.000  6.8125\n",
              "D1 1       13  46.75  3.596154   3.500  ...  1.215044  2.7500  3.500  4.2500\n",
              "   2        8  33.75  4.218750   4.500  ...  1.512642  3.5625  4.500  5.0000\n",
              "   2NT      1   3.75  3.750000   3.750  ...  0.000000  3.7500  3.750  3.7500\n",
              "\n",
              "[13 rows x 10 columns]"
            ]
          },
          "metadata": {},
          "execution_count": 10
        }
      ]
    },
    {
      "cell_type": "markdown",
      "metadata": {
        "id": "F6sY7k0TfPfM"
      },
      "source": [
        "*5. Hãy tạo pivot-table để thống kê các giá trị count, sum, mean, median, min, max, sdt, Q1, Q2 và Q3 của DH1 theo KT, KV và DT*"
      ]
    },
    {
      "cell_type": "code",
      "metadata": {
        "id": "jjdbQxbm82Ny",
        "colab": {
          "base_uri": "https://localhost:8080/",
          "height": 614
        },
        "outputId": "8d2311e9-59f4-4ace-937e-0e89ed076d28"
      },
      "source": [
        "# Thống kê giá trị bằng pivot_table\n",
        "pivotKT_KV_DT_DH1 = pd.pivot_table(df, values='DH1', index=['KT','KV','DT'],aggfunc=['count','sum','median','min','max',std,Q1,Q2,Q3])\n",
        "pivotKT_KV_DT_DH1"
      ],
      "execution_count": 11,
      "outputs": [
        {
          "output_type": "execute_result",
          "data": {
            "text/html": [
              "<div>\n",
              "<style scoped>\n",
              "    .dataframe tbody tr th:only-of-type {\n",
              "        vertical-align: middle;\n",
              "    }\n",
              "\n",
              "    .dataframe tbody tr th {\n",
              "        vertical-align: top;\n",
              "    }\n",
              "\n",
              "    .dataframe thead tr th {\n",
              "        text-align: left;\n",
              "    }\n",
              "\n",
              "    .dataframe thead tr:last-of-type th {\n",
              "        text-align: right;\n",
              "    }\n",
              "</style>\n",
              "<table border=\"1\" class=\"dataframe\">\n",
              "  <thead>\n",
              "    <tr>\n",
              "      <th></th>\n",
              "      <th></th>\n",
              "      <th></th>\n",
              "      <th>count</th>\n",
              "      <th>sum</th>\n",
              "      <th>median</th>\n",
              "      <th>min</th>\n",
              "      <th>max</th>\n",
              "      <th>std</th>\n",
              "      <th>Q1</th>\n",
              "      <th>Q2</th>\n",
              "      <th>Q3</th>\n",
              "    </tr>\n",
              "    <tr>\n",
              "      <th></th>\n",
              "      <th></th>\n",
              "      <th></th>\n",
              "      <th>DH1</th>\n",
              "      <th>DH1</th>\n",
              "      <th>DH1</th>\n",
              "      <th>DH1</th>\n",
              "      <th>DH1</th>\n",
              "      <th>DH1</th>\n",
              "      <th>DH1</th>\n",
              "      <th>DH1</th>\n",
              "      <th>DH1</th>\n",
              "    </tr>\n",
              "    <tr>\n",
              "      <th>KT</th>\n",
              "      <th>KV</th>\n",
              "      <th>DT</th>\n",
              "      <th></th>\n",
              "      <th></th>\n",
              "      <th></th>\n",
              "      <th></th>\n",
              "      <th></th>\n",
              "      <th></th>\n",
              "      <th></th>\n",
              "      <th></th>\n",
              "      <th></th>\n",
              "    </tr>\n",
              "  </thead>\n",
              "  <tbody>\n",
              "    <tr>\n",
              "      <th rowspan=\"4\" valign=\"top\">A</th>\n",
              "      <th>1</th>\n",
              "      <th>0.0</th>\n",
              "      <td>29</td>\n",
              "      <td>93.75</td>\n",
              "      <td>3.250</td>\n",
              "      <td>1.00</td>\n",
              "      <td>6.50</td>\n",
              "      <td>1.345380</td>\n",
              "      <td>2.0000</td>\n",
              "      <td>3.250</td>\n",
              "      <td>4.2500</td>\n",
              "    </tr>\n",
              "    <tr>\n",
              "      <th rowspan=\"2\" valign=\"top\">2</th>\n",
              "      <th>0.0</th>\n",
              "      <td>8</td>\n",
              "      <td>27.50</td>\n",
              "      <td>3.000</td>\n",
              "      <td>2.00</td>\n",
              "      <td>6.25</td>\n",
              "      <td>1.401729</td>\n",
              "      <td>2.2500</td>\n",
              "      <td>3.000</td>\n",
              "      <td>4.1875</td>\n",
              "    </tr>\n",
              "    <tr>\n",
              "      <th>6.0</th>\n",
              "      <td>1</td>\n",
              "      <td>4.25</td>\n",
              "      <td>4.250</td>\n",
              "      <td>4.25</td>\n",
              "      <td>4.25</td>\n",
              "      <td>0.000000</td>\n",
              "      <td>4.2500</td>\n",
              "      <td>4.250</td>\n",
              "      <td>4.2500</td>\n",
              "    </tr>\n",
              "    <tr>\n",
              "      <th>2NT</th>\n",
              "      <th>0.0</th>\n",
              "      <td>11</td>\n",
              "      <td>38.00</td>\n",
              "      <td>3.500</td>\n",
              "      <td>2.00</td>\n",
              "      <td>4.75</td>\n",
              "      <td>0.871377</td>\n",
              "      <td>2.8750</td>\n",
              "      <td>3.500</td>\n",
              "      <td>4.1250</td>\n",
              "    </tr>\n",
              "    <tr>\n",
              "      <th rowspan=\"2\" valign=\"top\">A1</th>\n",
              "      <th>1</th>\n",
              "      <th>0.0</th>\n",
              "      <td>2</td>\n",
              "      <td>4.75</td>\n",
              "      <td>2.375</td>\n",
              "      <td>2.00</td>\n",
              "      <td>2.75</td>\n",
              "      <td>0.375000</td>\n",
              "      <td>2.1875</td>\n",
              "      <td>2.375</td>\n",
              "      <td>2.5625</td>\n",
              "    </tr>\n",
              "    <tr>\n",
              "      <th>2NT</th>\n",
              "      <th>0.0</th>\n",
              "      <td>4</td>\n",
              "      <td>12.75</td>\n",
              "      <td>3.250</td>\n",
              "      <td>2.00</td>\n",
              "      <td>4.25</td>\n",
              "      <td>0.797947</td>\n",
              "      <td>2.9375</td>\n",
              "      <td>3.250</td>\n",
              "      <td>3.5000</td>\n",
              "    </tr>\n",
              "    <tr>\n",
              "      <th rowspan=\"2\" valign=\"top\">B</th>\n",
              "      <th>1</th>\n",
              "      <th>0.0</th>\n",
              "      <td>8</td>\n",
              "      <td>25.75</td>\n",
              "      <td>3.375</td>\n",
              "      <td>1.75</td>\n",
              "      <td>4.50</td>\n",
              "      <td>0.804650</td>\n",
              "      <td>3.0000</td>\n",
              "      <td>3.375</td>\n",
              "      <td>3.5625</td>\n",
              "    </tr>\n",
              "    <tr>\n",
              "      <th>2NT</th>\n",
              "      <th>0.0</th>\n",
              "      <td>1</td>\n",
              "      <td>3.75</td>\n",
              "      <td>3.750</td>\n",
              "      <td>3.75</td>\n",
              "      <td>3.75</td>\n",
              "      <td>0.000000</td>\n",
              "      <td>3.7500</td>\n",
              "      <td>3.750</td>\n",
              "      <td>3.7500</td>\n",
              "    </tr>\n",
              "    <tr>\n",
              "      <th rowspan=\"3\" valign=\"top\">C</th>\n",
              "      <th>1</th>\n",
              "      <th>0.0</th>\n",
              "      <td>8</td>\n",
              "      <td>43.50</td>\n",
              "      <td>5.250</td>\n",
              "      <td>4.75</td>\n",
              "      <td>7.00</td>\n",
              "      <td>0.681795</td>\n",
              "      <td>5.0000</td>\n",
              "      <td>5.250</td>\n",
              "      <td>5.4375</td>\n",
              "    </tr>\n",
              "    <tr>\n",
              "      <th>2</th>\n",
              "      <th>0.0</th>\n",
              "      <td>2</td>\n",
              "      <td>11.50</td>\n",
              "      <td>5.750</td>\n",
              "      <td>5.00</td>\n",
              "      <td>6.50</td>\n",
              "      <td>0.750000</td>\n",
              "      <td>5.3750</td>\n",
              "      <td>5.750</td>\n",
              "      <td>6.1250</td>\n",
              "    </tr>\n",
              "    <tr>\n",
              "      <th>2NT</th>\n",
              "      <th>0.0</th>\n",
              "      <td>4</td>\n",
              "      <td>24.25</td>\n",
              "      <td>6.000</td>\n",
              "      <td>5.25</td>\n",
              "      <td>7.00</td>\n",
              "      <td>0.817294</td>\n",
              "      <td>5.2500</td>\n",
              "      <td>6.000</td>\n",
              "      <td>6.8125</td>\n",
              "    </tr>\n",
              "    <tr>\n",
              "      <th rowspan=\"5\" valign=\"top\">D1</th>\n",
              "      <th rowspan=\"2\" valign=\"top\">1</th>\n",
              "      <th>0.0</th>\n",
              "      <td>12</td>\n",
              "      <td>43.75</td>\n",
              "      <td>3.625</td>\n",
              "      <td>1.50</td>\n",
              "      <td>5.75</td>\n",
              "      <td>1.251908</td>\n",
              "      <td>2.6875</td>\n",
              "      <td>3.625</td>\n",
              "      <td>4.4375</td>\n",
              "    </tr>\n",
              "    <tr>\n",
              "      <th>1.0</th>\n",
              "      <td>1</td>\n",
              "      <td>3.00</td>\n",
              "      <td>3.000</td>\n",
              "      <td>3.00</td>\n",
              "      <td>3.00</td>\n",
              "      <td>0.000000</td>\n",
              "      <td>3.0000</td>\n",
              "      <td>3.000</td>\n",
              "      <td>3.0000</td>\n",
              "    </tr>\n",
              "    <tr>\n",
              "      <th rowspan=\"2\" valign=\"top\">2</th>\n",
              "      <th>0.0</th>\n",
              "      <td>7</td>\n",
              "      <td>32.50</td>\n",
              "      <td>4.500</td>\n",
              "      <td>3.00</td>\n",
              "      <td>6.75</td>\n",
              "      <td>1.084445</td>\n",
              "      <td>4.1250</td>\n",
              "      <td>4.500</td>\n",
              "      <td>5.0000</td>\n",
              "    </tr>\n",
              "    <tr>\n",
              "      <th>1.0</th>\n",
              "      <td>1</td>\n",
              "      <td>1.25</td>\n",
              "      <td>1.250</td>\n",
              "      <td>1.25</td>\n",
              "      <td>1.25</td>\n",
              "      <td>0.000000</td>\n",
              "      <td>1.2500</td>\n",
              "      <td>1.250</td>\n",
              "      <td>1.2500</td>\n",
              "    </tr>\n",
              "    <tr>\n",
              "      <th>2NT</th>\n",
              "      <th>0.0</th>\n",
              "      <td>1</td>\n",
              "      <td>3.75</td>\n",
              "      <td>3.750</td>\n",
              "      <td>3.75</td>\n",
              "      <td>3.75</td>\n",
              "      <td>0.000000</td>\n",
              "      <td>3.7500</td>\n",
              "      <td>3.750</td>\n",
              "      <td>3.7500</td>\n",
              "    </tr>\n",
              "  </tbody>\n",
              "</table>\n",
              "</div>"
            ],
            "text/plain": [
              "           count    sum median   min   max       std      Q1     Q2      Q3\n",
              "             DH1    DH1    DH1   DH1   DH1       DH1     DH1    DH1     DH1\n",
              "KT KV  DT                                                                  \n",
              "A  1   0.0    29  93.75  3.250  1.00  6.50  1.345380  2.0000  3.250  4.2500\n",
              "   2   0.0     8  27.50  3.000  2.00  6.25  1.401729  2.2500  3.000  4.1875\n",
              "       6.0     1   4.25  4.250  4.25  4.25  0.000000  4.2500  4.250  4.2500\n",
              "   2NT 0.0    11  38.00  3.500  2.00  4.75  0.871377  2.8750  3.500  4.1250\n",
              "A1 1   0.0     2   4.75  2.375  2.00  2.75  0.375000  2.1875  2.375  2.5625\n",
              "   2NT 0.0     4  12.75  3.250  2.00  4.25  0.797947  2.9375  3.250  3.5000\n",
              "B  1   0.0     8  25.75  3.375  1.75  4.50  0.804650  3.0000  3.375  3.5625\n",
              "   2NT 0.0     1   3.75  3.750  3.75  3.75  0.000000  3.7500  3.750  3.7500\n",
              "C  1   0.0     8  43.50  5.250  4.75  7.00  0.681795  5.0000  5.250  5.4375\n",
              "   2   0.0     2  11.50  5.750  5.00  6.50  0.750000  5.3750  5.750  6.1250\n",
              "   2NT 0.0     4  24.25  6.000  5.25  7.00  0.817294  5.2500  6.000  6.8125\n",
              "D1 1   0.0    12  43.75  3.625  1.50  5.75  1.251908  2.6875  3.625  4.4375\n",
              "       1.0     1   3.00  3.000  3.00  3.00  0.000000  3.0000  3.000  3.0000\n",
              "   2   0.0     7  32.50  4.500  3.00  6.75  1.084445  4.1250  4.500  5.0000\n",
              "       1.0     1   1.25  1.250  1.25  1.25  0.000000  1.2500  1.250  1.2500\n",
              "   2NT 0.0     1   3.75  3.750  3.75  3.75  0.000000  3.7500  3.750  3.7500"
            ]
          },
          "metadata": {},
          "execution_count": 11
        }
      ]
    },
    {
      "cell_type": "code",
      "metadata": {
        "id": "8gYHVk0HrwKg",
        "colab": {
          "base_uri": "https://localhost:8080/",
          "height": 582
        },
        "outputId": "1c98b0f4-173c-4a75-cd38-c42c34385316"
      },
      "source": [
        "# Thống kê các giái trị bằng group\n",
        "groupKT_KV_DT_DH1= df.groupby([\"KT\",\"KV\",\"DT\"])[\"DH1\"].agg([\"count\",\"sum\", \"mean\", \"median\", \"min\", \"max\", std, Q1, Q2, Q3])\n",
        "groupKT_KV_DT_DH1"
      ],
      "execution_count": 12,
      "outputs": [
        {
          "output_type": "execute_result",
          "data": {
            "text/html": [
              "<div>\n",
              "<style scoped>\n",
              "    .dataframe tbody tr th:only-of-type {\n",
              "        vertical-align: middle;\n",
              "    }\n",
              "\n",
              "    .dataframe tbody tr th {\n",
              "        vertical-align: top;\n",
              "    }\n",
              "\n",
              "    .dataframe thead th {\n",
              "        text-align: right;\n",
              "    }\n",
              "</style>\n",
              "<table border=\"1\" class=\"dataframe\">\n",
              "  <thead>\n",
              "    <tr style=\"text-align: right;\">\n",
              "      <th></th>\n",
              "      <th></th>\n",
              "      <th></th>\n",
              "      <th>count</th>\n",
              "      <th>sum</th>\n",
              "      <th>mean</th>\n",
              "      <th>median</th>\n",
              "      <th>min</th>\n",
              "      <th>max</th>\n",
              "      <th>std</th>\n",
              "      <th>Q1</th>\n",
              "      <th>Q2</th>\n",
              "      <th>Q3</th>\n",
              "    </tr>\n",
              "    <tr>\n",
              "      <th>KT</th>\n",
              "      <th>KV</th>\n",
              "      <th>DT</th>\n",
              "      <th></th>\n",
              "      <th></th>\n",
              "      <th></th>\n",
              "      <th></th>\n",
              "      <th></th>\n",
              "      <th></th>\n",
              "      <th></th>\n",
              "      <th></th>\n",
              "      <th></th>\n",
              "      <th></th>\n",
              "    </tr>\n",
              "  </thead>\n",
              "  <tbody>\n",
              "    <tr>\n",
              "      <th rowspan=\"4\" valign=\"top\">A</th>\n",
              "      <th>1</th>\n",
              "      <th>0.0</th>\n",
              "      <td>29</td>\n",
              "      <td>93.75</td>\n",
              "      <td>3.232759</td>\n",
              "      <td>3.250</td>\n",
              "      <td>1.00</td>\n",
              "      <td>6.50</td>\n",
              "      <td>1.345380</td>\n",
              "      <td>2.0000</td>\n",
              "      <td>3.250</td>\n",
              "      <td>4.2500</td>\n",
              "    </tr>\n",
              "    <tr>\n",
              "      <th rowspan=\"2\" valign=\"top\">2</th>\n",
              "      <th>0.0</th>\n",
              "      <td>8</td>\n",
              "      <td>27.50</td>\n",
              "      <td>3.437500</td>\n",
              "      <td>3.000</td>\n",
              "      <td>2.00</td>\n",
              "      <td>6.25</td>\n",
              "      <td>1.401729</td>\n",
              "      <td>2.2500</td>\n",
              "      <td>3.000</td>\n",
              "      <td>4.1875</td>\n",
              "    </tr>\n",
              "    <tr>\n",
              "      <th>6.0</th>\n",
              "      <td>1</td>\n",
              "      <td>4.25</td>\n",
              "      <td>4.250000</td>\n",
              "      <td>4.250</td>\n",
              "      <td>4.25</td>\n",
              "      <td>4.25</td>\n",
              "      <td>0.000000</td>\n",
              "      <td>4.2500</td>\n",
              "      <td>4.250</td>\n",
              "      <td>4.2500</td>\n",
              "    </tr>\n",
              "    <tr>\n",
              "      <th>2NT</th>\n",
              "      <th>0.0</th>\n",
              "      <td>11</td>\n",
              "      <td>38.00</td>\n",
              "      <td>3.454545</td>\n",
              "      <td>3.500</td>\n",
              "      <td>2.00</td>\n",
              "      <td>4.75</td>\n",
              "      <td>0.871377</td>\n",
              "      <td>2.8750</td>\n",
              "      <td>3.500</td>\n",
              "      <td>4.1250</td>\n",
              "    </tr>\n",
              "    <tr>\n",
              "      <th rowspan=\"2\" valign=\"top\">A1</th>\n",
              "      <th>1</th>\n",
              "      <th>0.0</th>\n",
              "      <td>2</td>\n",
              "      <td>4.75</td>\n",
              "      <td>2.375000</td>\n",
              "      <td>2.375</td>\n",
              "      <td>2.00</td>\n",
              "      <td>2.75</td>\n",
              "      <td>0.375000</td>\n",
              "      <td>2.1875</td>\n",
              "      <td>2.375</td>\n",
              "      <td>2.5625</td>\n",
              "    </tr>\n",
              "    <tr>\n",
              "      <th>2NT</th>\n",
              "      <th>0.0</th>\n",
              "      <td>4</td>\n",
              "      <td>12.75</td>\n",
              "      <td>3.187500</td>\n",
              "      <td>3.250</td>\n",
              "      <td>2.00</td>\n",
              "      <td>4.25</td>\n",
              "      <td>0.797947</td>\n",
              "      <td>2.9375</td>\n",
              "      <td>3.250</td>\n",
              "      <td>3.5000</td>\n",
              "    </tr>\n",
              "    <tr>\n",
              "      <th rowspan=\"2\" valign=\"top\">B</th>\n",
              "      <th>1</th>\n",
              "      <th>0.0</th>\n",
              "      <td>8</td>\n",
              "      <td>25.75</td>\n",
              "      <td>3.218750</td>\n",
              "      <td>3.375</td>\n",
              "      <td>1.75</td>\n",
              "      <td>4.50</td>\n",
              "      <td>0.804650</td>\n",
              "      <td>3.0000</td>\n",
              "      <td>3.375</td>\n",
              "      <td>3.5625</td>\n",
              "    </tr>\n",
              "    <tr>\n",
              "      <th>2NT</th>\n",
              "      <th>0.0</th>\n",
              "      <td>1</td>\n",
              "      <td>3.75</td>\n",
              "      <td>3.750000</td>\n",
              "      <td>3.750</td>\n",
              "      <td>3.75</td>\n",
              "      <td>3.75</td>\n",
              "      <td>0.000000</td>\n",
              "      <td>3.7500</td>\n",
              "      <td>3.750</td>\n",
              "      <td>3.7500</td>\n",
              "    </tr>\n",
              "    <tr>\n",
              "      <th rowspan=\"3\" valign=\"top\">C</th>\n",
              "      <th>1</th>\n",
              "      <th>0.0</th>\n",
              "      <td>8</td>\n",
              "      <td>43.50</td>\n",
              "      <td>5.437500</td>\n",
              "      <td>5.250</td>\n",
              "      <td>4.75</td>\n",
              "      <td>7.00</td>\n",
              "      <td>0.681795</td>\n",
              "      <td>5.0000</td>\n",
              "      <td>5.250</td>\n",
              "      <td>5.4375</td>\n",
              "    </tr>\n",
              "    <tr>\n",
              "      <th>2</th>\n",
              "      <th>0.0</th>\n",
              "      <td>2</td>\n",
              "      <td>11.50</td>\n",
              "      <td>5.750000</td>\n",
              "      <td>5.750</td>\n",
              "      <td>5.00</td>\n",
              "      <td>6.50</td>\n",
              "      <td>0.750000</td>\n",
              "      <td>5.3750</td>\n",
              "      <td>5.750</td>\n",
              "      <td>6.1250</td>\n",
              "    </tr>\n",
              "    <tr>\n",
              "      <th>2NT</th>\n",
              "      <th>0.0</th>\n",
              "      <td>4</td>\n",
              "      <td>24.25</td>\n",
              "      <td>6.062500</td>\n",
              "      <td>6.000</td>\n",
              "      <td>5.25</td>\n",
              "      <td>7.00</td>\n",
              "      <td>0.817294</td>\n",
              "      <td>5.2500</td>\n",
              "      <td>6.000</td>\n",
              "      <td>6.8125</td>\n",
              "    </tr>\n",
              "    <tr>\n",
              "      <th rowspan=\"5\" valign=\"top\">D1</th>\n",
              "      <th rowspan=\"2\" valign=\"top\">1</th>\n",
              "      <th>0.0</th>\n",
              "      <td>12</td>\n",
              "      <td>43.75</td>\n",
              "      <td>3.645833</td>\n",
              "      <td>3.625</td>\n",
              "      <td>1.50</td>\n",
              "      <td>5.75</td>\n",
              "      <td>1.251908</td>\n",
              "      <td>2.6875</td>\n",
              "      <td>3.625</td>\n",
              "      <td>4.4375</td>\n",
              "    </tr>\n",
              "    <tr>\n",
              "      <th>1.0</th>\n",
              "      <td>1</td>\n",
              "      <td>3.00</td>\n",
              "      <td>3.000000</td>\n",
              "      <td>3.000</td>\n",
              "      <td>3.00</td>\n",
              "      <td>3.00</td>\n",
              "      <td>0.000000</td>\n",
              "      <td>3.0000</td>\n",
              "      <td>3.000</td>\n",
              "      <td>3.0000</td>\n",
              "    </tr>\n",
              "    <tr>\n",
              "      <th rowspan=\"2\" valign=\"top\">2</th>\n",
              "      <th>0.0</th>\n",
              "      <td>7</td>\n",
              "      <td>32.50</td>\n",
              "      <td>4.642857</td>\n",
              "      <td>4.500</td>\n",
              "      <td>3.00</td>\n",
              "      <td>6.75</td>\n",
              "      <td>1.084445</td>\n",
              "      <td>4.1250</td>\n",
              "      <td>4.500</td>\n",
              "      <td>5.0000</td>\n",
              "    </tr>\n",
              "    <tr>\n",
              "      <th>1.0</th>\n",
              "      <td>1</td>\n",
              "      <td>1.25</td>\n",
              "      <td>1.250000</td>\n",
              "      <td>1.250</td>\n",
              "      <td>1.25</td>\n",
              "      <td>1.25</td>\n",
              "      <td>0.000000</td>\n",
              "      <td>1.2500</td>\n",
              "      <td>1.250</td>\n",
              "      <td>1.2500</td>\n",
              "    </tr>\n",
              "    <tr>\n",
              "      <th>2NT</th>\n",
              "      <th>0.0</th>\n",
              "      <td>1</td>\n",
              "      <td>3.75</td>\n",
              "      <td>3.750000</td>\n",
              "      <td>3.750</td>\n",
              "      <td>3.75</td>\n",
              "      <td>3.75</td>\n",
              "      <td>0.000000</td>\n",
              "      <td>3.7500</td>\n",
              "      <td>3.750</td>\n",
              "      <td>3.7500</td>\n",
              "    </tr>\n",
              "  </tbody>\n",
              "</table>\n",
              "</div>"
            ],
            "text/plain": [
              "            count    sum      mean  median  ...       std      Q1     Q2      Q3\n",
              "KT KV  DT                                   ...                                 \n",
              "A  1   0.0     29  93.75  3.232759   3.250  ...  1.345380  2.0000  3.250  4.2500\n",
              "   2   0.0      8  27.50  3.437500   3.000  ...  1.401729  2.2500  3.000  4.1875\n",
              "       6.0      1   4.25  4.250000   4.250  ...  0.000000  4.2500  4.250  4.2500\n",
              "   2NT 0.0     11  38.00  3.454545   3.500  ...  0.871377  2.8750  3.500  4.1250\n",
              "A1 1   0.0      2   4.75  2.375000   2.375  ...  0.375000  2.1875  2.375  2.5625\n",
              "   2NT 0.0      4  12.75  3.187500   3.250  ...  0.797947  2.9375  3.250  3.5000\n",
              "B  1   0.0      8  25.75  3.218750   3.375  ...  0.804650  3.0000  3.375  3.5625\n",
              "   2NT 0.0      1   3.75  3.750000   3.750  ...  0.000000  3.7500  3.750  3.7500\n",
              "C  1   0.0      8  43.50  5.437500   5.250  ...  0.681795  5.0000  5.250  5.4375\n",
              "   2   0.0      2  11.50  5.750000   5.750  ...  0.750000  5.3750  5.750  6.1250\n",
              "   2NT 0.0      4  24.25  6.062500   6.000  ...  0.817294  5.2500  6.000  6.8125\n",
              "D1 1   0.0     12  43.75  3.645833   3.625  ...  1.251908  2.6875  3.625  4.4375\n",
              "       1.0      1   3.00  3.000000   3.000  ...  0.000000  3.0000  3.000  3.0000\n",
              "   2   0.0      7  32.50  4.642857   4.500  ...  1.084445  4.1250  4.500  5.0000\n",
              "       1.0      1   1.25  1.250000   1.250  ...  0.000000  1.2500  1.250  1.2500\n",
              "   2NT 0.0      1   3.75  3.750000   3.750  ...  0.000000  3.7500  3.750  3.7500\n",
              "\n",
              "[16 rows x 10 columns]"
            ]
          },
          "metadata": {},
          "execution_count": 12
        }
      ]
    },
    {
      "cell_type": "markdown",
      "metadata": {
        "id": "J_opRavDJfIn"
      },
      "source": [
        "#**Phần 2:** \n",
        "\n",
        "**Trình bày dữ liệu**\n",
        "\n",
        "1. Hãy trình bày dữ liệu biến:\n",
        "> GT Gợi ý \n",
        "- Lập bảng tần số và tần suất \n",
        "- Vẽ biểu đồ tần số (cột), biểu đồ tần suất (tròn) và biểu đồ tích lũy tần suất (đa giác tích lũy)\n",
        "\n",
        "2. Hãy trình bày dữ liệu lần lượt các biến: US_TBM1, US_TBM2 và US_TBM3\n",
        "3. Hãy trình bày dữ liệu biến DT với các học sinh là nam\n",
        "4. Hãy trình bày dữ liệu biến KV với các học sinh là nam thuộc dân tộc Kinh, có điểm thõa mãn điều kiện (DH1 >= 5.0 và DH2 >= 4.0 và DH3 >= 4.0)\n",
        "5. Hãy trình bày dữ liệu lần lượt các biến DH1, DH2, DH3 lớn hơn bằng 5.0 và thuộc khu vực 2NT"
      ]
    },
    {
      "cell_type": "markdown",
      "metadata": {
        "id": "eWALC3p0gCTt"
      },
      "source": [
        "*1.Hãy trình bày dữ liệu biến*"
      ]
    },
    {
      "cell_type": "code",
      "metadata": {
        "colab": {
          "base_uri": "https://localhost:8080/",
          "height": 283
        },
        "id": "VxNXzfVFoX5W",
        "outputId": "b9a66ed4-87c4-4ba1-b37a-a2d3ade1c912"
      },
      "source": [
        "# Thống kê số lượng theo từng khu vực\n",
        "StaKV = df.groupby(\"KV\")[\"KV\"].agg([\"count\"])\n",
        "StaKV.plot.pie(\n",
        "    autopct=\"%.2f\",\n",
        "    fontsize=20,\n",
        "    subplots=True,\n",
        "    figsize=(8, 4))"
      ],
      "execution_count": 13,
      "outputs": [
        {
          "output_type": "execute_result",
          "data": {
            "text/plain": [
              "array([<matplotlib.axes._subplots.AxesSubplot object at 0x7fcc5548fb10>],\n",
              "      dtype=object)"
            ]
          },
          "metadata": {},
          "execution_count": 13
        },
        {
          "output_type": "display_data",
          "data": {
            "image/png": "[encoded data removed]",
            "text/plain": [
              "<Figure size 576x288 with 1 Axes>"
            ]
          },
          "metadata": {}
        }
      ]
    },
    {
      "cell_type": "code",
      "metadata": {
        "colab": {
          "base_uri": "https://localhost:8080/",
          "height": 283
        },
        "id": "EuNR5oKfohhw",
        "outputId": "74125944-dc38-438a-9186-e3da69113696"
      },
      "source": [
        "# Thống kê theo số lượng theo từng khối thi\n",
        "StaKT = df.groupby(\"KT\")[\"KT\"].agg([\"count\"])\n",
        "StaKT.plot.pie(\n",
        "    autopct=\"%.2f\",\n",
        "    fontsize=20,\n",
        "    subplots=True,\n",
        "    figsize=(8, 4))"
      ],
      "execution_count": 14,
      "outputs": [
        {
          "output_type": "execute_result",
          "data": {
            "text/plain": [
              "array([<matplotlib.axes._subplots.AxesSubplot object at 0x7fcc5540ec50>],\n",
              "      dtype=object)"
            ]
          },
          "metadata": {},
          "execution_count": 14
        },
        {
          "output_type": "display_data",
          "data": {
            "image/png": "[encoded data removed]",
            "text/plain": [
              "<Figure size 576x288 with 1 Axes>"
            ]
          },
          "metadata": {}
        }
      ]
    },
    {
      "cell_type": "code",
      "metadata": {
        "colab": {
          "base_uri": "https://localhost:8080/",
          "height": 295
        },
        "id": "qnBTtIoupZmM",
        "outputId": "f6a99ad0-9919-48e0-e0aa-6387ccb17c89"
      },
      "source": [
        "#Thống kê số lượng theo giới tính\n",
        "StaGT = df.groupby(\"GT\")[\"GT\"].agg([\"count\"])\n",
        "StaGT.plot.bar()"
      ],
      "execution_count": 15,
      "outputs": [
        {
          "output_type": "execute_result",
          "data": {
            "text/plain": [
              "<matplotlib.axes._subplots.AxesSubplot at 0x7fcc553d1bd0>"
            ]
          },
          "metadata": {},
          "execution_count": 15
        },
        {
          "output_type": "display_data",
          "data": {
            "image/png": "[encoded data removed]",
            "text/plain": [
              "<Figure size 432x288 with 1 Axes>"
            ]
          },
          "metadata": {
            "needs_background": "light"
          }
        }
      ]
    },
    {
      "cell_type": "code",
      "metadata": {
        "colab": {
          "base_uri": "https://localhost:8080/",
          "height": 283
        },
        "id": "1xAuqi5OVmgg",
        "outputId": "c3850ed1-77fc-443e-c16c-1742c7417052"
      },
      "source": [
        "# Thống kê theo số lượng theo từng Dân tộc\n",
        "StaDT = df.groupby(\"DT\")[\"DT\"].agg([\"count\"])\n",
        "StaDT.plot.pie(\n",
        "    autopct=\"%.2f\",\n",
        "    subplots=True,\n",
        "    figsize=(8, 4))"
      ],
      "execution_count": 16,
      "outputs": [
        {
          "output_type": "execute_result",
          "data": {
            "text/plain": [
              "array([<matplotlib.axes._subplots.AxesSubplot object at 0x7fcc54e95e50>],\n",
              "      dtype=object)"
            ]
          },
          "metadata": {},
          "execution_count": 16
        },
        {
          "output_type": "display_data",
          "data": {
            "image/png": "[encoded data removed]",
            "text/plain": [
              "<Figure size 576x288 with 1 Axes>"
            ]
          },
          "metadata": {}
        }
      ]
    },
    {
      "cell_type": "markdown",
      "metadata": {
        "id": "ceF_DYaMrvOK"
      },
      "source": [
        "*2. Hãy trình bày dữ liệu lần lượt các biến: US_TBM1, US_TBM2 và US_TBM3*"
      ]
    },
    {
      "cell_type": "code",
      "metadata": {
        "colab": {
          "base_uri": "https://localhost:8080/"
        },
        "id": "S8ydqpYwsd6H",
        "outputId": "50974246-34ee-48cd-c028-7831268dc720"
      },
      "source": [
        "df[\"US_TBM1\"]\n"
      ],
      "execution_count": 17,
      "outputs": [
        {
          "output_type": "execute_result",
          "data": {
            "text/plain": [
              "STT\n",
              "1      2.800\n",
              "2      1.876\n",
              "3      2.308\n",
              "4      2.484\n",
              "5      2.600\n",
              "       ...  \n",
              "96     2.972\n",
              "97     1.972\n",
              "98     2.820\n",
              "99     1.660\n",
              "100    2.104\n",
              "Name: US_TBM1, Length: 100, dtype: float64"
            ]
          },
          "metadata": {},
          "execution_count": 17
        }
      ]
    },
    {
      "cell_type": "code",
      "metadata": {
        "colab": {
          "base_uri": "https://localhost:8080/",
          "height": 305
        },
        "id": "K5uosw1qplq1",
        "outputId": "fe7aa1b8-62b2-46ad-a526-e449600183a7"
      },
      "source": [
        "#US_TBM1\n",
        "#df[\"US_TBM1\"].plot.pie()\n",
        "df['US_TBM1'].plot.bar()"
      ],
      "execution_count": 18,
      "outputs": [
        {
          "output_type": "execute_result",
          "data": {
            "text/plain": [
              "<matplotlib.axes._subplots.AxesSubplot at 0x7fcc54dfa8d0>"
            ]
          },
          "metadata": {},
          "execution_count": 18
        },
        {
          "output_type": "display_data",
          "data": {
            "image/png": "[encoded data removed]",
            "text/plain": [
              "<Figure size 432x288 with 1 Axes>"
            ]
          },
          "metadata": {
            "needs_background": "light"
          }
        }
      ]
    },
    {
      "cell_type": "code",
      "metadata": {
        "colab": {
          "base_uri": "https://localhost:8080/",
          "height": 305
        },
        "id": "81TzBtUdufYv",
        "outputId": "1de3e7e7-749f-45d8-830e-110c39cc18c1"
      },
      "source": [
        "#US_TBM2\n",
        "#df[\"US_TBM2\"].plot.pie()\n",
        "df[\"US_TBM2\"].plot.bar()"
      ],
      "execution_count": 19,
      "outputs": [
        {
          "output_type": "execute_result",
          "data": {
            "text/plain": [
              "<matplotlib.axes._subplots.AxesSubplot at 0x7fcc54b82ed0>"
            ]
          },
          "metadata": {},
          "execution_count": 19
        },
        {
          "output_type": "display_data",
          "data": {
            "image/png": "[encoded data removed]",
            "text/plain": [
              "<Figure size 432x288 with 1 Axes>"
            ]
          },
          "metadata": {
            "needs_background": "light"
          }
        }
      ]
    },
    {
      "cell_type": "code",
      "metadata": {
        "colab": {
          "base_uri": "https://localhost:8080/",
          "height": 305
        },
        "id": "FXfwC-Myunvf",
        "outputId": "c4d9a5dd-54db-4ccd-9528-da966effbfb1"
      },
      "source": [
        "#US_TBM3\n",
        "#df[\"US_TBM3\"].plot.pie()\n",
        "df[\"US_TBM3\"].plot.bar()"
      ],
      "execution_count": 20,
      "outputs": [
        {
          "output_type": "execute_result",
          "data": {
            "text/plain": [
              "<matplotlib.axes._subplots.AxesSubplot at 0x7fcc549faa50>"
            ]
          },
          "metadata": {},
          "execution_count": 20
        },
        {
          "output_type": "display_data",
          "data": {
            "image/png": "[encoded data removed]",
            "text/plain": [
              "<Figure size 432x288 with 1 Axes>"
            ]
          },
          "metadata": {
            "needs_background": "light"
          }
        }
      ]
    },
    {
      "cell_type": "markdown",
      "metadata": {
        "id": "JcUX5W6iu3Ey"
      },
      "source": [
        "*3. Hãy trình bày dữ liệu biến DT với các học sinh là nam*"
      ]
    },
    {
      "cell_type": "code",
      "metadata": {
        "id": "MuHLPnPatG_a",
        "colab": {
          "base_uri": "https://localhost:8080/",
          "height": 175
        },
        "outputId": "067031c2-5a3e-481a-e872-62f7e740705e"
      },
      "source": [
        "# Hoc sinh nam với biến DT\n",
        "DT_GTM = df[df.GT=='M'].groupby(['DT','GT']).agg({'GT':'count'}).rename(columns={'GT':'Count'})\n",
        "DT_GTM"
      ],
      "execution_count": 21,
      "outputs": [
        {
          "output_type": "execute_result",
          "data": {
            "text/html": [
              "<div>\n",
              "<style scoped>\n",
              "    .dataframe tbody tr th:only-of-type {\n",
              "        vertical-align: middle;\n",
              "    }\n",
              "\n",
              "    .dataframe tbody tr th {\n",
              "        vertical-align: top;\n",
              "    }\n",
              "\n",
              "    .dataframe thead th {\n",
              "        text-align: right;\n",
              "    }\n",
              "</style>\n",
              "<table border=\"1\" class=\"dataframe\">\n",
              "  <thead>\n",
              "    <tr style=\"text-align: right;\">\n",
              "      <th></th>\n",
              "      <th></th>\n",
              "      <th>Count</th>\n",
              "    </tr>\n",
              "    <tr>\n",
              "      <th>DT</th>\n",
              "      <th>GT</th>\n",
              "      <th></th>\n",
              "    </tr>\n",
              "  </thead>\n",
              "  <tbody>\n",
              "    <tr>\n",
              "      <th>0.0</th>\n",
              "      <th>M</th>\n",
              "      <td>50</td>\n",
              "    </tr>\n",
              "    <tr>\n",
              "      <th>1.0</th>\n",
              "      <th>M</th>\n",
              "      <td>1</td>\n",
              "    </tr>\n",
              "    <tr>\n",
              "      <th>6.0</th>\n",
              "      <th>M</th>\n",
              "      <td>1</td>\n",
              "    </tr>\n",
              "  </tbody>\n",
              "</table>\n",
              "</div>"
            ],
            "text/plain": [
              "        Count\n",
              "DT  GT       \n",
              "0.0 M      50\n",
              "1.0 M       1\n",
              "6.0 M       1"
            ]
          },
          "metadata": {},
          "execution_count": 21
        }
      ]
    },
    {
      "cell_type": "code",
      "metadata": {
        "colab": {
          "base_uri": "https://localhost:8080/",
          "height": 282
        },
        "id": "wmBB34qlsh05",
        "outputId": "6cce6e17-201c-431b-d461-0336bdb4f9f8"
      },
      "source": [
        "df.loc[(df.GT=='M'),'DT'].hist()"
      ],
      "execution_count": 22,
      "outputs": [
        {
          "output_type": "execute_result",
          "data": {
            "text/plain": [
              "<matplotlib.axes._subplots.AxesSubplot at 0x7fcc5468e8d0>"
            ]
          },
          "metadata": {},
          "execution_count": 22
        },
        {
          "output_type": "display_data",
          "data": {
            "image/png": "[encoded data removed]",
            "text/plain": [
              "<Figure size 432x288 with 1 Axes>"
            ]
          },
          "metadata": {
            "needs_background": "light"
          }
        }
      ]
    },
    {
      "cell_type": "markdown",
      "metadata": {
        "id": "lyeShubFuyMQ"
      },
      "source": [
        "*4. Hãy trình bày dữ liệu biến KV với các học sinh là nam thuộc dân tộc Kinh, có điểm thõa mãn điều kiện (DH1 >= 5.0 và DH2 >= 4.0 và DH3 >= 4.0)*"
      ]
    },
    {
      "cell_type": "code",
      "metadata": {
        "colab": {
          "base_uri": "https://localhost:8080/",
          "height": 175
        },
        "id": "CTJy2Nwiu9cs",
        "outputId": "0f432d41-5b3a-457c-f6cf-a17ba4bd1b56"
      },
      "source": [
        "M_DT00_KV = df[(df.DT.isin(['0.0'])) & (df.GT =='M') & (df.DH1 >=5.0) & (df.DH2 >= 4.0) & (df.DH3 >= 4.0)].groupby(['DT','KV','GT']).agg({'GT':'count'})\n",
        "M_DT00_KV"
      ],
      "execution_count": 23,
      "outputs": [
        {
          "output_type": "execute_result",
          "data": {
            "text/html": [
              "<div>\n",
              "<style scoped>\n",
              "    .dataframe tbody tr th:only-of-type {\n",
              "        vertical-align: middle;\n",
              "    }\n",
              "\n",
              "    .dataframe tbody tr th {\n",
              "        vertical-align: top;\n",
              "    }\n",
              "\n",
              "    .dataframe thead th {\n",
              "        text-align: right;\n",
              "    }\n",
              "</style>\n",
              "<table border=\"1\" class=\"dataframe\">\n",
              "  <thead>\n",
              "    <tr style=\"text-align: right;\">\n",
              "      <th></th>\n",
              "      <th></th>\n",
              "      <th></th>\n",
              "      <th>GT</th>\n",
              "    </tr>\n",
              "    <tr>\n",
              "      <th>DT</th>\n",
              "      <th>KV</th>\n",
              "      <th>GT</th>\n",
              "      <th></th>\n",
              "    </tr>\n",
              "  </thead>\n",
              "  <tbody>\n",
              "    <tr>\n",
              "      <th rowspan=\"3\" valign=\"top\">0.0</th>\n",
              "      <th>1</th>\n",
              "      <th>M</th>\n",
              "      <td>2</td>\n",
              "    </tr>\n",
              "    <tr>\n",
              "      <th>2</th>\n",
              "      <th>M</th>\n",
              "      <td>2</td>\n",
              "    </tr>\n",
              "    <tr>\n",
              "      <th>2NT</th>\n",
              "      <th>M</th>\n",
              "      <td>2</td>\n",
              "    </tr>\n",
              "  </tbody>\n",
              "</table>\n",
              "</div>"
            ],
            "text/plain": [
              "            GT\n",
              "DT  KV  GT    \n",
              "0.0 1   M    2\n",
              "    2   M    2\n",
              "    2NT M    2"
            ]
          },
          "metadata": {},
          "execution_count": 23
        }
      ]
    },
    {
      "cell_type": "code",
      "metadata": {
        "colab": {
          "base_uri": "https://localhost:8080/",
          "height": 351
        },
        "id": "ONx_WPP9xWLr",
        "outputId": "2f83b77e-c65f-4b6f-c182-6d17568f0905"
      },
      "source": [
        "M_DT00_KV.plot.bar()"
      ],
      "execution_count": 24,
      "outputs": [
        {
          "output_type": "execute_result",
          "data": {
            "text/plain": [
              "<matplotlib.axes._subplots.AxesSubplot at 0x7fcc5457b750>"
            ]
          },
          "metadata": {},
          "execution_count": 24
        },
        {
          "output_type": "display_data",
          "data": {
            "image/png": "[encoded data removed]",
            "text/plain": [
              "<Figure size 432x288 with 1 Axes>"
            ]
          },
          "metadata": {
            "needs_background": "light"
          }
        }
      ]
    },
    {
      "cell_type": "markdown",
      "metadata": {
        "id": "knnRCvfovP5B"
      },
      "source": [
        "*5. Hãy trình bày dữ liệu lần lượt các biến DH1, DH2, DH3 lớn hơn bằng 5.0 và thuộc khu vực 2NT*"
      ]
    },
    {
      "cell_type": "code",
      "metadata": {
        "id": "SyPPs4b2zMpt"
      },
      "source": [
        "#df[(df.KV =='2NT') & (df.DH1 >= 5.0) & (df.DH2 >= 5.0) & (df.DH3 >= 5.0)].groupby(['KV','DH1','DH2','DH3'])['KV'].agg('count')"
      ],
      "execution_count": 25,
      "outputs": []
    },
    {
      "cell_type": "code",
      "metadata": {
        "colab": {
          "base_uri": "https://localhost:8080/",
          "height": 112
        },
        "id": "FxjtKCmLxt39",
        "outputId": "51c3bccb-2736-489d-c585-ab6beeb3dd2a"
      },
      "source": [
        "KV_2NT = df[(df.KV =='2NT') & (df.DH1 >= 5.0) & (df.DH2 >= 5.0) & (df.DH3 >= 5.0)].groupby(['KV','DH1','DH2','DH3']).agg({'KV':'count'}).rename(columns={'KV':'Count'})\n",
        "KV_2NT "
      ],
      "execution_count": 26,
      "outputs": [
        {
          "output_type": "execute_result",
          "data": {
            "text/html": [
              "<div>\n",
              "<style scoped>\n",
              "    .dataframe tbody tr th:only-of-type {\n",
              "        vertical-align: middle;\n",
              "    }\n",
              "\n",
              "    .dataframe tbody tr th {\n",
              "        vertical-align: top;\n",
              "    }\n",
              "\n",
              "    .dataframe thead th {\n",
              "        text-align: right;\n",
              "    }\n",
              "</style>\n",
              "<table border=\"1\" class=\"dataframe\">\n",
              "  <thead>\n",
              "    <tr style=\"text-align: right;\">\n",
              "      <th></th>\n",
              "      <th></th>\n",
              "      <th></th>\n",
              "      <th></th>\n",
              "      <th>Count</th>\n",
              "    </tr>\n",
              "    <tr>\n",
              "      <th>KV</th>\n",
              "      <th>DH1</th>\n",
              "      <th>DH2</th>\n",
              "      <th>DH3</th>\n",
              "      <th></th>\n",
              "    </tr>\n",
              "  </thead>\n",
              "  <tbody>\n",
              "    <tr>\n",
              "      <th>2NT</th>\n",
              "      <th>6.75</th>\n",
              "      <th>5.25</th>\n",
              "      <th>5.0</th>\n",
              "      <td>1</td>\n",
              "    </tr>\n",
              "  </tbody>\n",
              "</table>\n",
              "</div>"
            ],
            "text/plain": [
              "                   Count\n",
              "KV  DH1  DH2  DH3       \n",
              "2NT 6.75 5.25 5.0      1"
            ]
          },
          "metadata": {},
          "execution_count": 26
        }
      ]
    },
    {
      "cell_type": "code",
      "metadata": {
        "colab": {
          "base_uri": "https://localhost:8080/",
          "height": 175
        },
        "id": "zEYn6PWTzlz_",
        "outputId": "ac2d1c5e-d8e3-41a3-db1b-04da56a66af0"
      },
      "source": [
        "# DH1 lớn hơn bằng 5.0 và thuộc khu vực 2NT\n",
        "KV_2NT_DH1 = df[(df.KV =='2NT') & (df.DH1 >= 5.0)].groupby(['KV','DH1']).agg({'KV':'count'}).rename(columns={'KV':'Count'})\n",
        "KV_2NT_DH1 "
      ],
      "execution_count": 27,
      "outputs": [
        {
          "output_type": "execute_result",
          "data": {
            "text/html": [
              "<div>\n",
              "<style scoped>\n",
              "    .dataframe tbody tr th:only-of-type {\n",
              "        vertical-align: middle;\n",
              "    }\n",
              "\n",
              "    .dataframe tbody tr th {\n",
              "        vertical-align: top;\n",
              "    }\n",
              "\n",
              "    .dataframe thead th {\n",
              "        text-align: right;\n",
              "    }\n",
              "</style>\n",
              "<table border=\"1\" class=\"dataframe\">\n",
              "  <thead>\n",
              "    <tr style=\"text-align: right;\">\n",
              "      <th></th>\n",
              "      <th></th>\n",
              "      <th>Count</th>\n",
              "    </tr>\n",
              "    <tr>\n",
              "      <th>KV</th>\n",
              "      <th>DH1</th>\n",
              "      <th></th>\n",
              "    </tr>\n",
              "  </thead>\n",
              "  <tbody>\n",
              "    <tr>\n",
              "      <th rowspan=\"3\" valign=\"top\">2NT</th>\n",
              "      <th>5.25</th>\n",
              "      <td>2</td>\n",
              "    </tr>\n",
              "    <tr>\n",
              "      <th>6.75</th>\n",
              "      <td>1</td>\n",
              "    </tr>\n",
              "    <tr>\n",
              "      <th>7.00</th>\n",
              "      <td>1</td>\n",
              "    </tr>\n",
              "  </tbody>\n",
              "</table>\n",
              "</div>"
            ],
            "text/plain": [
              "          Count\n",
              "KV  DH1        \n",
              "2NT 5.25      2\n",
              "    6.75      1\n",
              "    7.00      1"
            ]
          },
          "metadata": {},
          "execution_count": 27
        }
      ]
    },
    {
      "cell_type": "code",
      "metadata": {
        "colab": {
          "base_uri": "https://localhost:8080/",
          "height": 343
        },
        "id": "I4v4_VAi0MCX",
        "outputId": "7b870e9c-4c4f-459a-97e7-db6d52f1c8d4"
      },
      "source": [
        "KV_2NT_DH1.plot.bar()"
      ],
      "execution_count": 28,
      "outputs": [
        {
          "output_type": "execute_result",
          "data": {
            "text/plain": [
              "<matplotlib.axes._subplots.AxesSubplot at 0x7fcc54e7c690>"
            ]
          },
          "metadata": {},
          "execution_count": 28
        },
        {
          "output_type": "display_data",
          "data": {
            "image/png": "[encoded data removed]",
            "text/plain": [
              "<Figure size 432x288 with 1 Axes>"
            ]
          },
          "metadata": {
            "needs_background": "light"
          }
        }
      ]
    },
    {
      "cell_type": "code",
      "metadata": {
        "id": "uTftbmQj0Vvd",
        "colab": {
          "base_uri": "https://localhost:8080/",
          "height": 206
        },
        "outputId": "45549f79-1554-4a97-8ff2-fdf4f90f68c9"
      },
      "source": [
        "# DH2 lớn hơn bằng 5.0 và thuộc khu vực 2NT\n",
        "KV_2NT_DH2 = df[(df.KV =='2NT') & (df.DH2 >= 5.0)].groupby(['KV','DH2']).agg({'KV':'count'}).rename(columns={'KV':'Count'})\n",
        "KV_2NT_DH2 "
      ],
      "execution_count": 29,
      "outputs": [
        {
          "output_type": "execute_result",
          "data": {
            "text/html": [
              "<div>\n",
              "<style scoped>\n",
              "    .dataframe tbody tr th:only-of-type {\n",
              "        vertical-align: middle;\n",
              "    }\n",
              "\n",
              "    .dataframe tbody tr th {\n",
              "        vertical-align: top;\n",
              "    }\n",
              "\n",
              "    .dataframe thead th {\n",
              "        text-align: right;\n",
              "    }\n",
              "</style>\n",
              "<table border=\"1\" class=\"dataframe\">\n",
              "  <thead>\n",
              "    <tr style=\"text-align: right;\">\n",
              "      <th></th>\n",
              "      <th></th>\n",
              "      <th>Count</th>\n",
              "    </tr>\n",
              "    <tr>\n",
              "      <th>KV</th>\n",
              "      <th>DH2</th>\n",
              "      <th></th>\n",
              "    </tr>\n",
              "  </thead>\n",
              "  <tbody>\n",
              "    <tr>\n",
              "      <th rowspan=\"4\" valign=\"top\">2NT</th>\n",
              "      <th>5.00</th>\n",
              "      <td>1</td>\n",
              "    </tr>\n",
              "    <tr>\n",
              "      <th>5.25</th>\n",
              "      <td>3</td>\n",
              "    </tr>\n",
              "    <tr>\n",
              "      <th>5.75</th>\n",
              "      <td>1</td>\n",
              "    </tr>\n",
              "    <tr>\n",
              "      <th>8.00</th>\n",
              "      <td>1</td>\n",
              "    </tr>\n",
              "  </tbody>\n",
              "</table>\n",
              "</div>"
            ],
            "text/plain": [
              "          Count\n",
              "KV  DH2        \n",
              "2NT 5.00      1\n",
              "    5.25      3\n",
              "    5.75      1\n",
              "    8.00      1"
            ]
          },
          "metadata": {},
          "execution_count": 29
        }
      ]
    },
    {
      "cell_type": "code",
      "metadata": {
        "id": "okSVYJjS0gfi",
        "colab": {
          "base_uri": "https://localhost:8080/",
          "height": 343
        },
        "outputId": "7e0ce10d-e214-4971-c048-3b9f17912a2e"
      },
      "source": [
        "KV_2NT_DH2.plot.bar()"
      ],
      "execution_count": 30,
      "outputs": [
        {
          "output_type": "execute_result",
          "data": {
            "text/plain": [
              "<matplotlib.axes._subplots.AxesSubplot at 0x7fcc54b9ec10>"
            ]
          },
          "metadata": {},
          "execution_count": 30
        },
        {
          "output_type": "display_data",
          "data": {
            "image/png": "[encoded data removed]",
            "text/plain": [
              "<Figure size 432x288 with 1 Axes>"
            ]
          },
          "metadata": {
            "needs_background": "light"
          }
        }
      ]
    },
    {
      "cell_type": "code",
      "metadata": {
        "id": "2Jv6F0_y0rLv",
        "colab": {
          "base_uri": "https://localhost:8080/",
          "height": 206
        },
        "outputId": "6e750be0-ff0a-49c3-ea65-8a31c3a960d7"
      },
      "source": [
        "# DH3 lớn hơn bằng 5.0 và thuộc khu vực 2NT\n",
        "KV_2NT_DH3 = df[(df.KV =='2NT') & (df.DH3 >= 5.0)].groupby(['KV','DH3']).agg({'KV':'count'}).rename(columns={'KV':'Count'})\n",
        "KV_2NT_DH3"
      ],
      "execution_count": 31,
      "outputs": [
        {
          "output_type": "execute_result",
          "data": {
            "text/html": [
              "<div>\n",
              "<style scoped>\n",
              "    .dataframe tbody tr th:only-of-type {\n",
              "        vertical-align: middle;\n",
              "    }\n",
              "\n",
              "    .dataframe tbody tr th {\n",
              "        vertical-align: top;\n",
              "    }\n",
              "\n",
              "    .dataframe thead th {\n",
              "        text-align: right;\n",
              "    }\n",
              "</style>\n",
              "<table border=\"1\" class=\"dataframe\">\n",
              "  <thead>\n",
              "    <tr style=\"text-align: right;\">\n",
              "      <th></th>\n",
              "      <th></th>\n",
              "      <th>Count</th>\n",
              "    </tr>\n",
              "    <tr>\n",
              "      <th>KV</th>\n",
              "      <th>DH3</th>\n",
              "      <th></th>\n",
              "    </tr>\n",
              "  </thead>\n",
              "  <tbody>\n",
              "    <tr>\n",
              "      <th rowspan=\"4\" valign=\"top\">2NT</th>\n",
              "      <th>5.0</th>\n",
              "      <td>2</td>\n",
              "    </tr>\n",
              "    <tr>\n",
              "      <th>5.5</th>\n",
              "      <td>1</td>\n",
              "    </tr>\n",
              "    <tr>\n",
              "      <th>6.0</th>\n",
              "      <td>1</td>\n",
              "    </tr>\n",
              "    <tr>\n",
              "      <th>6.5</th>\n",
              "      <td>2</td>\n",
              "    </tr>\n",
              "  </tbody>\n",
              "</table>\n",
              "</div>"
            ],
            "text/plain": [
              "         Count\n",
              "KV  DH3       \n",
              "2NT 5.0      2\n",
              "    5.5      1\n",
              "    6.0      1\n",
              "    6.5      2"
            ]
          },
          "metadata": {},
          "execution_count": 31
        }
      ]
    },
    {
      "cell_type": "code",
      "metadata": {
        "id": "4-y1PFNV0yjY",
        "colab": {
          "base_uri": "https://localhost:8080/",
          "height": 336
        },
        "outputId": "7454a5db-4030-4f24-94f7-ed707da3c78b"
      },
      "source": [
        "KV_2NT_DH3.plot.bar()"
      ],
      "execution_count": 32,
      "outputs": [
        {
          "output_type": "execute_result",
          "data": {
            "text/plain": [
              "<matplotlib.axes._subplots.AxesSubplot at 0x7fcc5452d9d0>"
            ]
          },
          "metadata": {},
          "execution_count": 32
        },
        {
          "output_type": "display_data",
          "data": {
            "image/png": "[encoded data removed]",
            "text/plain": [
              "<Figure size 432x288 with 1 Axes>"
            ]
          },
          "metadata": {
            "needs_background": "light"
          }
        }
      ]
    },
    {
      "cell_type": "markdown",
      "metadata": {
        "id": "DqVGG2ZTJ4gH"
      },
      "source": [
        "#**Phần 3:** \n",
        "\n",
        "**Trực quan hóa dữ liệu theo nhóm phân loại**\n",
        "\n",
        "1. Trực quan dữ liệu học sinh nữ trên các nhóm XL1, XL2, XL3 dạng unstacked \n",
        "> Gợi ý \n",
        "- Lọc dữ liệu giới tính là nữ \n",
        "- Oy: Chiều cao biểu đồ cột thể hiển số lượng học sinh theo xếp loại \n",
        "- Màu sắc thể hiện giá trị xếp loại: [Y, TB, K, G, XS] \n",
        "- Ox: thể hiện nhóm XL1, XL2 và XL3\n",
        "2. Trực quan dữ liệu KQXT trên nhóm học sinh có khối thi A, A1, B thuộc khu vực 1, 2\n",
        "3. Trực quan dữ liệu số lượng thí sinh từng khu vực dựa trên từng nhóm khối thi\n",
        "4. Trực quan dữ liệu số lượng thí sinh đậu, rớt trên từng nhóm khối thi\n",
        "5. Trực quan dữ liệu số lượng thí sinh đậu rớt trên từng nhóm khu vực.\n",
        "6. Trực quan dữ liệu số lượng thí sinh đậu rớt dựa trên từng nhóm dân tộc\n",
        "7. Trực quan dữ liệu số lượng thí sinh đậu rớt dựa trên từng nhóm giới tính"
      ]
    },
    {
      "cell_type": "markdown",
      "metadata": {
        "id": "bmelvjEXuM63"
      },
      "source": [
        "*1. Trực quan dữ liệu học sinh nữ trên các nhóm XL1, XL2, XL3 dạng unstacked*"
      ]
    },
    {
      "cell_type": "code",
      "metadata": {
        "id": "GJMYkjTLuq5a",
        "colab": {
          "base_uri": "https://localhost:8080/",
          "height": 457
        },
        "outputId": "d45a8a88-f948-465b-d9db-a84eb7a6d6b9"
      },
      "source": [
        "# dữ liệu giới tính là \"F\"\n",
        "XL_F = df[(df.GT == 'F')].groupby(['GT','XL1','XL2','XL3']).agg({'GT':'count'}).rename(columns={'GT':'Count'})\n",
        "XL_F"
      ],
      "execution_count": 33,
      "outputs": [
        {
          "output_type": "execute_result",
          "data": {
            "text/html": [
              "<div>\n",
              "<style scoped>\n",
              "    .dataframe tbody tr th:only-of-type {\n",
              "        vertical-align: middle;\n",
              "    }\n",
              "\n",
              "    .dataframe tbody tr th {\n",
              "        vertical-align: top;\n",
              "    }\n",
              "\n",
              "    .dataframe thead th {\n",
              "        text-align: right;\n",
              "    }\n",
              "</style>\n",
              "<table border=\"1\" class=\"dataframe\">\n",
              "  <thead>\n",
              "    <tr style=\"text-align: right;\">\n",
              "      <th></th>\n",
              "      <th></th>\n",
              "      <th></th>\n",
              "      <th></th>\n",
              "      <th>Count</th>\n",
              "    </tr>\n",
              "    <tr>\n",
              "      <th>GT</th>\n",
              "      <th>XL1</th>\n",
              "      <th>XL2</th>\n",
              "      <th>XL3</th>\n",
              "      <th></th>\n",
              "    </tr>\n",
              "  </thead>\n",
              "  <tbody>\n",
              "    <tr>\n",
              "      <th rowspan=\"12\" valign=\"top\">F</th>\n",
              "      <th>G</th>\n",
              "      <th>G</th>\n",
              "      <th>G</th>\n",
              "      <td>1</td>\n",
              "    </tr>\n",
              "    <tr>\n",
              "      <th rowspan=\"4\" valign=\"top\">K</th>\n",
              "      <th>G</th>\n",
              "      <th>K</th>\n",
              "      <td>1</td>\n",
              "    </tr>\n",
              "    <tr>\n",
              "      <th rowspan=\"2\" valign=\"top\">K</th>\n",
              "      <th>K</th>\n",
              "      <td>20</td>\n",
              "    </tr>\n",
              "    <tr>\n",
              "      <th>TB</th>\n",
              "      <td>1</td>\n",
              "    </tr>\n",
              "    <tr>\n",
              "      <th>TB</th>\n",
              "      <th>TB</th>\n",
              "      <td>2</td>\n",
              "    </tr>\n",
              "    <tr>\n",
              "      <th rowspan=\"4\" valign=\"top\">TB</th>\n",
              "      <th rowspan=\"2\" valign=\"top\">K</th>\n",
              "      <th>K</th>\n",
              "      <td>6</td>\n",
              "    </tr>\n",
              "    <tr>\n",
              "      <th>TB</th>\n",
              "      <td>3</td>\n",
              "    </tr>\n",
              "    <tr>\n",
              "      <th rowspan=\"2\" valign=\"top\">TB</th>\n",
              "      <th>K</th>\n",
              "      <td>1</td>\n",
              "    </tr>\n",
              "    <tr>\n",
              "      <th>TB</th>\n",
              "      <td>8</td>\n",
              "    </tr>\n",
              "    <tr>\n",
              "      <th rowspan=\"3\" valign=\"top\">Y</th>\n",
              "      <th rowspan=\"2\" valign=\"top\">TB</th>\n",
              "      <th>TB</th>\n",
              "      <td>3</td>\n",
              "    </tr>\n",
              "    <tr>\n",
              "      <th>Y</th>\n",
              "      <td>1</td>\n",
              "    </tr>\n",
              "    <tr>\n",
              "      <th>Y</th>\n",
              "      <th>TB</th>\n",
              "      <td>1</td>\n",
              "    </tr>\n",
              "  </tbody>\n",
              "</table>\n",
              "</div>"
            ],
            "text/plain": [
              "                Count\n",
              "GT XL1 XL2 XL3       \n",
              "F  G   G   G        1\n",
              "   K   G   K        1\n",
              "       K   K       20\n",
              "           TB       1\n",
              "       TB  TB       2\n",
              "   TB  K   K        6\n",
              "           TB       3\n",
              "       TB  K        1\n",
              "           TB       8\n",
              "   Y   TB  TB       3\n",
              "           Y        1\n",
              "       Y   TB       1"
            ]
          },
          "metadata": {},
          "execution_count": 33
        }
      ]
    },
    {
      "cell_type": "code",
      "metadata": {
        "colab": {
          "base_uri": "https://localhost:8080/",
          "height": 282
        },
        "id": "-Sp1DXaT3Gxr",
        "outputId": "64f751ed-2245-409e-b4ee-c1b62a29dba7"
      },
      "source": [
        "XL_F.plot.barh(stacked=True)"
      ],
      "execution_count": 34,
      "outputs": [
        {
          "output_type": "execute_result",
          "data": {
            "text/plain": [
              "<matplotlib.axes._subplots.AxesSubplot at 0x7fcc54413710>"
            ]
          },
          "metadata": {},
          "execution_count": 34
        },
        {
          "output_type": "display_data",
          "data": {
            "image/png": "[encoded data removed]",
            "text/plain": [
              "<Figure size 432x288 with 1 Axes>"
            ]
          },
          "metadata": {
            "needs_background": "light"
          }
        }
      ]
    },
    {
      "cell_type": "markdown",
      "metadata": {
        "id": "YolGoM3A1pE7"
      },
      "source": [
        "*2. Trực quan dữ liệu KQXT trên nhóm học sinh có khối thi A, A1, B thuộc khu vực 1, 2*"
      ]
    },
    {
      "cell_type": "code",
      "metadata": {
        "colab": {
          "base_uri": "https://localhost:8080/"
        },
        "id": "O71sBdLIVJYW",
        "outputId": "398652e4-cadd-4663-8233-c93464bc16e3"
      },
      "source": [
        "# Xem dữ liệu khối thi\n",
        "df[['KT']].groupby(['KT'])['KT'].agg('count')"
      ],
      "execution_count": 35,
      "outputs": [
        {
          "output_type": "execute_result",
          "data": {
            "text/plain": [
              "KT\n",
              "A     49\n",
              "A1     6\n",
              "B      9\n",
              "C     14\n",
              "D1    22\n",
              "Name: KT, dtype: int64"
            ]
          },
          "metadata": {},
          "execution_count": 35
        }
      ]
    },
    {
      "cell_type": "code",
      "metadata": {
        "colab": {
          "base_uri": "https://localhost:8080/",
          "height": 300
        },
        "id": "Ght6a3CASVQf",
        "outputId": "8f7e1f81-7b38-470c-fdfb-a20ac518d956"
      },
      "source": [
        "# Trực quan dữ liệu KQXT\n",
        "TQ_KQXT = df[(df.KV.isin(['1','2'])) & df.KT.isin(['A','A1','B'])].groupby(['KT','KV','KQXT']).agg({'KQXT':'count'})\n",
        "TQ_KQXT"
      ],
      "execution_count": 36,
      "outputs": [
        {
          "output_type": "execute_result",
          "data": {
            "text/html": [
              "<div>\n",
              "<style scoped>\n",
              "    .dataframe tbody tr th:only-of-type {\n",
              "        vertical-align: middle;\n",
              "    }\n",
              "\n",
              "    .dataframe tbody tr th {\n",
              "        vertical-align: top;\n",
              "    }\n",
              "\n",
              "    .dataframe thead th {\n",
              "        text-align: right;\n",
              "    }\n",
              "</style>\n",
              "<table border=\"1\" class=\"dataframe\">\n",
              "  <thead>\n",
              "    <tr style=\"text-align: right;\">\n",
              "      <th></th>\n",
              "      <th></th>\n",
              "      <th></th>\n",
              "      <th>KQXT</th>\n",
              "    </tr>\n",
              "    <tr>\n",
              "      <th>KT</th>\n",
              "      <th>KV</th>\n",
              "      <th>KQXT</th>\n",
              "      <th></th>\n",
              "    </tr>\n",
              "  </thead>\n",
              "  <tbody>\n",
              "    <tr>\n",
              "      <th rowspan=\"4\" valign=\"top\">A</th>\n",
              "      <th rowspan=\"2\" valign=\"top\">1</th>\n",
              "      <th>0.0</th>\n",
              "      <td>27</td>\n",
              "    </tr>\n",
              "    <tr>\n",
              "      <th>1.0</th>\n",
              "      <td>2</td>\n",
              "    </tr>\n",
              "    <tr>\n",
              "      <th rowspan=\"2\" valign=\"top\">2</th>\n",
              "      <th>0.0</th>\n",
              "      <td>7</td>\n",
              "    </tr>\n",
              "    <tr>\n",
              "      <th>1.0</th>\n",
              "      <td>2</td>\n",
              "    </tr>\n",
              "    <tr>\n",
              "      <th>A1</th>\n",
              "      <th>1</th>\n",
              "      <th>0.0</th>\n",
              "      <td>2</td>\n",
              "    </tr>\n",
              "    <tr>\n",
              "      <th rowspan=\"2\" valign=\"top\">B</th>\n",
              "      <th rowspan=\"2\" valign=\"top\">1</th>\n",
              "      <th>0.0</th>\n",
              "      <td>7</td>\n",
              "    </tr>\n",
              "    <tr>\n",
              "      <th>1.0</th>\n",
              "      <td>1</td>\n",
              "    </tr>\n",
              "  </tbody>\n",
              "</table>\n",
              "</div>"
            ],
            "text/plain": [
              "            KQXT\n",
              "KT KV KQXT      \n",
              "A  1  0.0     27\n",
              "      1.0      2\n",
              "   2  0.0      7\n",
              "      1.0      2\n",
              "A1 1  0.0      2\n",
              "B  1  0.0      7\n",
              "      1.0      1"
            ]
          },
          "metadata": {},
          "execution_count": 36
        }
      ]
    },
    {
      "cell_type": "code",
      "metadata": {
        "colab": {
          "base_uri": "https://localhost:8080/",
          "height": 342
        },
        "id": "lsWule4oWRxf",
        "outputId": "ea10769d-a6ea-4824-9049-f81d07c46920"
      },
      "source": [
        "TQ_KQXT.plot.bar()"
      ],
      "execution_count": 37,
      "outputs": [
        {
          "output_type": "execute_result",
          "data": {
            "text/plain": [
              "<matplotlib.axes._subplots.AxesSubplot at 0x7fcc54357850>"
            ]
          },
          "metadata": {},
          "execution_count": 37
        },
        {
          "output_type": "display_data",
          "data": {
            "image/png": "[encoded data removed]",
            "text/plain": [
              "<Figure size 432x288 with 1 Axes>"
            ]
          },
          "metadata": {
            "needs_background": "light"
          }
        }
      ]
    },
    {
      "cell_type": "markdown",
      "metadata": {
        "id": "OLQ9hsj71vH2"
      },
      "source": [
        "*3. Trực quan dữ liệu số lượng thí sinh từng khu vực dựa trên từng nhóm khối thi*"
      ]
    },
    {
      "cell_type": "code",
      "metadata": {
        "colab": {
          "base_uri": "https://localhost:8080/"
        },
        "id": "eP4bBxy-WddG",
        "outputId": "26d91077-0f17-4dd5-d0c8-72aeaf6398f1"
      },
      "source": [
        "# Trực quan dữ liệu số lượng thí sinh dựa trên KV và KT\n",
        "KV_KT = df.groupby(['KV','KT'])['KV'].agg('count')\n",
        "KV_KT"
      ],
      "execution_count": 38,
      "outputs": [
        {
          "output_type": "execute_result",
          "data": {
            "text/plain": [
              "KV   KT\n",
              "1    A     29\n",
              "     A1     2\n",
              "     B      8\n",
              "     C      8\n",
              "     D1    13\n",
              "2    A      9\n",
              "     C      2\n",
              "     D1     8\n",
              "2NT  A     11\n",
              "     A1     4\n",
              "     B      1\n",
              "     C      4\n",
              "     D1     1\n",
              "Name: KV, dtype: int64"
            ]
          },
          "metadata": {},
          "execution_count": 38
        }
      ]
    },
    {
      "cell_type": "code",
      "metadata": {
        "colab": {
          "base_uri": "https://localhost:8080/",
          "height": 335
        },
        "id": "WZAZTI_EY_PY",
        "outputId": "50309d60-4007-4fd8-e4ce-e6347110ddb4"
      },
      "source": [
        "KV_KT.plot.bar()"
      ],
      "execution_count": null,
      "outputs": [
        {
          "output_type": "execute_result",
          "data": {
            "text/plain": [
              "<matplotlib.axes._subplots.AxesSubplot at 0x7f716c450bd0>"
            ]
          },
          "metadata": {},
          "execution_count": 86
        },
        {
          "output_type": "display_data",
          "data": {
            "image/png": "[encoded data removed]",
            "text/plain": [
              "<Figure size 432x288 with 1 Axes>"
            ]
          },
          "metadata": {
            "needs_background": "light"
          }
        }
      ]
    },
    {
      "cell_type": "markdown",
      "metadata": {
        "id": "aBz7BoGQ15VB"
      },
      "source": [
        "*4. Trực quan dữ liệu số lượng thí sinh đậu, rớt trên từng nhóm khối thi*"
      ]
    },
    {
      "cell_type": "code",
      "metadata": {
        "colab": {
          "base_uri": "https://localhost:8080/",
          "height": 363
        },
        "id": "KOcPxx4ja9hE",
        "outputId": "1b7782c5-f66f-4a81-9d33-9b23012106ee"
      },
      "source": [
        "#Trực quan dữ liệu số lượng thí sinh đậu, rớt trên từng nhóm khối thi\n",
        "DAU_ROT = df.groupby(['KQXT','KT']).agg({'KQXT':'count'})\n",
        "DAU_ROT"
      ],
      "execution_count": 39,
      "outputs": [
        {
          "output_type": "execute_result",
          "data": {
            "text/html": [
              "<div>\n",
              "<style scoped>\n",
              "    .dataframe tbody tr th:only-of-type {\n",
              "        vertical-align: middle;\n",
              "    }\n",
              "\n",
              "    .dataframe tbody tr th {\n",
              "        vertical-align: top;\n",
              "    }\n",
              "\n",
              "    .dataframe thead th {\n",
              "        text-align: right;\n",
              "    }\n",
              "</style>\n",
              "<table border=\"1\" class=\"dataframe\">\n",
              "  <thead>\n",
              "    <tr style=\"text-align: right;\">\n",
              "      <th></th>\n",
              "      <th></th>\n",
              "      <th>KQXT</th>\n",
              "    </tr>\n",
              "    <tr>\n",
              "      <th>KQXT</th>\n",
              "      <th>KT</th>\n",
              "      <th></th>\n",
              "    </tr>\n",
              "  </thead>\n",
              "  <tbody>\n",
              "    <tr>\n",
              "      <th rowspan=\"5\" valign=\"top\">0.0</th>\n",
              "      <th>A</th>\n",
              "      <td>45</td>\n",
              "    </tr>\n",
              "    <tr>\n",
              "      <th>A1</th>\n",
              "      <td>6</td>\n",
              "    </tr>\n",
              "    <tr>\n",
              "      <th>B</th>\n",
              "      <td>7</td>\n",
              "    </tr>\n",
              "    <tr>\n",
              "      <th>C</th>\n",
              "      <td>10</td>\n",
              "    </tr>\n",
              "    <tr>\n",
              "      <th>D1</th>\n",
              "      <td>21</td>\n",
              "    </tr>\n",
              "    <tr>\n",
              "      <th rowspan=\"4\" valign=\"top\">1.0</th>\n",
              "      <th>A</th>\n",
              "      <td>4</td>\n",
              "    </tr>\n",
              "    <tr>\n",
              "      <th>B</th>\n",
              "      <td>2</td>\n",
              "    </tr>\n",
              "    <tr>\n",
              "      <th>C</th>\n",
              "      <td>4</td>\n",
              "    </tr>\n",
              "    <tr>\n",
              "      <th>D1</th>\n",
              "      <td>1</td>\n",
              "    </tr>\n",
              "  </tbody>\n",
              "</table>\n",
              "</div>"
            ],
            "text/plain": [
              "         KQXT\n",
              "KQXT KT      \n",
              "0.0  A     45\n",
              "     A1     6\n",
              "     B      7\n",
              "     C     10\n",
              "     D1    21\n",
              "1.0  A      4\n",
              "     B      2\n",
              "     C      4\n",
              "     D1     1"
            ]
          },
          "metadata": {},
          "execution_count": 39
        }
      ]
    },
    {
      "cell_type": "code",
      "metadata": {
        "colab": {
          "base_uri": "https://localhost:8080/",
          "height": 330
        },
        "id": "Xtg6udcAb4rB",
        "outputId": "75fbba89-0aaf-4095-8be5-4c30d2314c9b"
      },
      "source": [
        "DAU_ROT.plot.bar()"
      ],
      "execution_count": 40,
      "outputs": [
        {
          "output_type": "execute_result",
          "data": {
            "text/plain": [
              "<matplotlib.axes._subplots.AxesSubplot at 0x7fcc54260a10>"
            ]
          },
          "metadata": {},
          "execution_count": 40
        },
        {
          "output_type": "display_data",
          "data": {
            "image/png": "[encoded data removed]",
            "text/plain": [
              "<Figure size 432x288 with 1 Axes>"
            ]
          },
          "metadata": {
            "needs_background": "light"
          }
        }
      ]
    },
    {
      "cell_type": "markdown",
      "metadata": {
        "id": "dm5TVtil2AgT"
      },
      "source": [
        "*5. Trực quan dữ liệu số lượng thí sinh đậu rớt trên từng nhóm khu vực.*"
      ]
    },
    {
      "cell_type": "code",
      "metadata": {
        "colab": {
          "base_uri": "https://localhost:8080/",
          "height": 269
        },
        "id": "fKpV9fi4cFyu",
        "outputId": "ea68541a-16ae-4aeb-ed7c-d7c9fb86524a"
      },
      "source": [
        "# Trực quan dữ liệu số lượng thí sinh đậu rớt trên từng nhóm khu vực.\n",
        "DAUROT_KV = df.groupby(['KQXT','KV']).agg({'KQXT':'count'})\n",
        "DAUROT_KV"
      ],
      "execution_count": 41,
      "outputs": [
        {
          "output_type": "execute_result",
          "data": {
            "text/html": [
              "<div>\n",
              "<style scoped>\n",
              "    .dataframe tbody tr th:only-of-type {\n",
              "        vertical-align: middle;\n",
              "    }\n",
              "\n",
              "    .dataframe tbody tr th {\n",
              "        vertical-align: top;\n",
              "    }\n",
              "\n",
              "    .dataframe thead th {\n",
              "        text-align: right;\n",
              "    }\n",
              "</style>\n",
              "<table border=\"1\" class=\"dataframe\">\n",
              "  <thead>\n",
              "    <tr style=\"text-align: right;\">\n",
              "      <th></th>\n",
              "      <th></th>\n",
              "      <th>KQXT</th>\n",
              "    </tr>\n",
              "    <tr>\n",
              "      <th>KQXT</th>\n",
              "      <th>KV</th>\n",
              "      <th></th>\n",
              "    </tr>\n",
              "  </thead>\n",
              "  <tbody>\n",
              "    <tr>\n",
              "      <th rowspan=\"3\" valign=\"top\">0.0</th>\n",
              "      <th>1</th>\n",
              "      <td>56</td>\n",
              "    </tr>\n",
              "    <tr>\n",
              "      <th>2</th>\n",
              "      <td>15</td>\n",
              "    </tr>\n",
              "    <tr>\n",
              "      <th>2NT</th>\n",
              "      <td>18</td>\n",
              "    </tr>\n",
              "    <tr>\n",
              "      <th rowspan=\"3\" valign=\"top\">1.0</th>\n",
              "      <th>1</th>\n",
              "      <td>4</td>\n",
              "    </tr>\n",
              "    <tr>\n",
              "      <th>2</th>\n",
              "      <td>4</td>\n",
              "    </tr>\n",
              "    <tr>\n",
              "      <th>2NT</th>\n",
              "      <td>3</td>\n",
              "    </tr>\n",
              "  </tbody>\n",
              "</table>\n",
              "</div>"
            ],
            "text/plain": [
              "          KQXT\n",
              "KQXT KV       \n",
              "0.0  1      56\n",
              "     2      15\n",
              "     2NT    18\n",
              "1.0  1       4\n",
              "     2       4\n",
              "     2NT     3"
            ]
          },
          "metadata": {},
          "execution_count": 41
        }
      ]
    },
    {
      "cell_type": "code",
      "metadata": {
        "id": "e-rttMAtc3-h"
      },
      "source": [
        "DAUROT_KV.plot.barh()"
      ],
      "execution_count": null,
      "outputs": []
    },
    {
      "cell_type": "markdown",
      "metadata": {
        "id": "h4f9pt5Q2Eb3"
      },
      "source": [
        "*6. Trực quan dữ liệu số lượng thí sinh đậu rớt dựa trên từng nhóm dân tộc*"
      ]
    },
    {
      "cell_type": "code",
      "metadata": {
        "colab": {
          "base_uri": "https://localhost:8080/",
          "height": 206
        },
        "id": "Uk1PZOyCdC4g",
        "outputId": "a6a901ef-6934-4a7d-97bb-d8ccb7cb5893"
      },
      "source": [
        "# Trực quan dữ liệu số lượng thí sinh đậu rớt dựa trên từng nhóm dân tộc\n",
        "DAUROT_DT = df.groupby(['KQXT','DT']).agg({'KQXT':'count'})\n",
        "DAUROT_DT"
      ],
      "execution_count": 42,
      "outputs": [
        {
          "output_type": "execute_result",
          "data": {
            "text/html": [
              "<div>\n",
              "<style scoped>\n",
              "    .dataframe tbody tr th:only-of-type {\n",
              "        vertical-align: middle;\n",
              "    }\n",
              "\n",
              "    .dataframe tbody tr th {\n",
              "        vertical-align: top;\n",
              "    }\n",
              "\n",
              "    .dataframe thead th {\n",
              "        text-align: right;\n",
              "    }\n",
              "</style>\n",
              "<table border=\"1\" class=\"dataframe\">\n",
              "  <thead>\n",
              "    <tr style=\"text-align: right;\">\n",
              "      <th></th>\n",
              "      <th></th>\n",
              "      <th>KQXT</th>\n",
              "    </tr>\n",
              "    <tr>\n",
              "      <th>KQXT</th>\n",
              "      <th>DT</th>\n",
              "      <th></th>\n",
              "    </tr>\n",
              "  </thead>\n",
              "  <tbody>\n",
              "    <tr>\n",
              "      <th rowspan=\"3\" valign=\"top\">0.0</th>\n",
              "      <th>0.0</th>\n",
              "      <td>86</td>\n",
              "    </tr>\n",
              "    <tr>\n",
              "      <th>1.0</th>\n",
              "      <td>2</td>\n",
              "    </tr>\n",
              "    <tr>\n",
              "      <th>6.0</th>\n",
              "      <td>1</td>\n",
              "    </tr>\n",
              "    <tr>\n",
              "      <th>1.0</th>\n",
              "      <th>0.0</th>\n",
              "      <td>11</td>\n",
              "    </tr>\n",
              "  </tbody>\n",
              "</table>\n",
              "</div>"
            ],
            "text/plain": [
              "          KQXT\n",
              "KQXT DT       \n",
              "0.0  0.0    86\n",
              "     1.0     2\n",
              "     6.0     1\n",
              "1.0  0.0    11"
            ]
          },
          "metadata": {},
          "execution_count": 42
        }
      ]
    },
    {
      "cell_type": "code",
      "metadata": {
        "colab": {
          "base_uri": "https://localhost:8080/",
          "height": 332
        },
        "id": "3AFojf3ddNb3",
        "outputId": "90df0eaf-9c1e-4012-8004-2bc3a6bfc89d"
      },
      "source": [
        "DAUROT_DT.plot.bar()"
      ],
      "execution_count": 43,
      "outputs": [
        {
          "output_type": "execute_result",
          "data": {
            "text/plain": [
              "<matplotlib.axes._subplots.AxesSubplot at 0x7fcc541e3d10>"
            ]
          },
          "metadata": {},
          "execution_count": 43
        },
        {
          "output_type": "display_data",
          "data": {
            "image/png": "[encoded data removed]",
            "text/plain": [
              "<Figure size 432x288 with 1 Axes>"
            ]
          },
          "metadata": {
            "needs_background": "light"
          }
        }
      ]
    },
    {
      "cell_type": "markdown",
      "metadata": {
        "id": "pPkporTb2JtX"
      },
      "source": [
        "*7. Trực quan dữ liệu số lượng thí sinh đậu rớt dựa trên từng nhóm giới tính*"
      ]
    },
    {
      "cell_type": "code",
      "metadata": {
        "colab": {
          "base_uri": "https://localhost:8080/",
          "height": 206
        },
        "id": "0yUegoTUdWku",
        "outputId": "4aa299b7-5f34-443a-ba14-127ee18fe587"
      },
      "source": [
        "# Trực quan dữ liệu số lượng thí sinh đậu rớt dựa trên từng nhóm giới tính\n",
        "DAUROT_GT = df.groupby(['KQXT','GT']).agg({'KQXT':'count'})\n",
        "DAUROT_GT"
      ],
      "execution_count": 44,
      "outputs": [
        {
          "output_type": "execute_result",
          "data": {
            "text/html": [
              "<div>\n",
              "<style scoped>\n",
              "    .dataframe tbody tr th:only-of-type {\n",
              "        vertical-align: middle;\n",
              "    }\n",
              "\n",
              "    .dataframe tbody tr th {\n",
              "        vertical-align: top;\n",
              "    }\n",
              "\n",
              "    .dataframe thead th {\n",
              "        text-align: right;\n",
              "    }\n",
              "</style>\n",
              "<table border=\"1\" class=\"dataframe\">\n",
              "  <thead>\n",
              "    <tr style=\"text-align: right;\">\n",
              "      <th></th>\n",
              "      <th></th>\n",
              "      <th>KQXT</th>\n",
              "    </tr>\n",
              "    <tr>\n",
              "      <th>KQXT</th>\n",
              "      <th>GT</th>\n",
              "      <th></th>\n",
              "    </tr>\n",
              "  </thead>\n",
              "  <tbody>\n",
              "    <tr>\n",
              "      <th rowspan=\"2\" valign=\"top\">0.0</th>\n",
              "      <th>F</th>\n",
              "      <td>45</td>\n",
              "    </tr>\n",
              "    <tr>\n",
              "      <th>M</th>\n",
              "      <td>44</td>\n",
              "    </tr>\n",
              "    <tr>\n",
              "      <th rowspan=\"2\" valign=\"top\">1.0</th>\n",
              "      <th>F</th>\n",
              "      <td>3</td>\n",
              "    </tr>\n",
              "    <tr>\n",
              "      <th>M</th>\n",
              "      <td>8</td>\n",
              "    </tr>\n",
              "  </tbody>\n",
              "</table>\n",
              "</div>"
            ],
            "text/plain": [
              "         KQXT\n",
              "KQXT GT      \n",
              "0.0  F     45\n",
              "     M     44\n",
              "1.0  F      3\n",
              "     M      8"
            ]
          },
          "metadata": {},
          "execution_count": 44
        }
      ]
    },
    {
      "cell_type": "code",
      "metadata": {
        "colab": {
          "base_uri": "https://localhost:8080/",
          "height": 325
        },
        "id": "gtImrYeWddJD",
        "outputId": "c406e8b4-b299-4183-b806-2214fe5a8b28"
      },
      "source": [
        "DAUROT_GT.plot.bar()"
      ],
      "execution_count": 45,
      "outputs": [
        {
          "output_type": "execute_result",
          "data": {
            "text/plain": [
              "<matplotlib.axes._subplots.AxesSubplot at 0x7fcc541da310>"
            ]
          },
          "metadata": {},
          "execution_count": 45
        },
        {
          "output_type": "display_data",
          "data": {
            "image/png": "[encoded data removed]",
            "text/plain": [
              "<Figure size 432x288 with 1 Axes>"
            ]
          },
          "metadata": {
            "needs_background": "light"
          }
        }
      ]
    },
    {
      "cell_type": "markdown",
      "metadata": {
        "id": "bJtk86v2KB50"
      },
      "source": [
        "\n",
        "#**Phần 4:** \n",
        "\n",
        "Trực quan hóa dữ liệu nâng cao\n",
        "\n",
        "1. Vẽ biểu đồ đường Simple cho biến T1\n",
        "2. Hãy tạo biến phân loại (phanlopt1) cho môn toán (T1) như sau:\n",
        "\n",
        "> a. Từ 0 đến dưới 5 = kém (ký hiệu \"k\")\n",
        "\n",
        "> b. Từ 5 đến dưới 7 = trung bình (ký hiệu \"tb\")\n",
        "\n",
        "> c. Từ 7 đến dưới 8 = khá (ký hiệu \"k\")\n",
        "\n",
        "> d. Từ 8 trở lên = giỏi (ký hiệu \"g\")\n",
        "\n",
        "3. Lập bảng tần số cho biến phanloait1\n",
        "4. Vẽ biểu đồ đường Multiple Line cho biến T1 được phân loại bởi biến phanlopt1\n",
        "5. Vẽ biểu đồ Drop-line cho biến T1 được phân loại bởi biến phanlopt1\n"
      ]
    },
    {
      "cell_type": "markdown",
      "metadata": {
        "id": "bvSPREaYfns6"
      },
      "source": [
        "*1. Vẽ biểu đồ đường Simple cho biến T1*"
      ]
    },
    {
      "cell_type": "code",
      "metadata": {
        "colab": {
          "base_uri": "https://localhost:8080/",
          "height": 296
        },
        "id": "l-kGreyYgjr7",
        "outputId": "797bfdf1-928b-4a08-9803-9cf017a0e348"
      },
      "source": [
        "df['T1'].plot.line()"
      ],
      "execution_count": null,
      "outputs": [
        {
          "output_type": "execute_result",
          "data": {
            "text/plain": [
              "<matplotlib.axes._subplots.AxesSubplot at 0x7f716bca7f90>"
            ]
          },
          "metadata": {},
          "execution_count": 103
        },
        {
          "output_type": "display_data",
          "data": {
            "image/png": "[encoded data removed]",
            "text/plain": [
              "<Figure size 432x288 with 1 Axes>"
            ]
          },
          "metadata": {
            "needs_background": "light"
          }
        }
      ]
    },
    {
      "cell_type": "markdown",
      "metadata": {
        "id": "XL_8ai9Wf0kv"
      },
      "source": [
        "*2. Hãy tạo biến phân loại (phanlopt1) cho môn toán (T1) như sau:*\n",
        "\n",
        "> a. Từ 0 đến dưới 5 = kém (ký hiệu \"k\")\n",
        "\n",
        "> b. Từ 5 đến dưới 7 = trung bình (ký hiệu \"tb\")\n",
        "\n",
        "> c. Từ 7 đến dưới 8 = khá (ký hiệu \"k\")\n",
        "\n",
        "> d. Từ 8 trở lên = giỏi (ký hiệu \"g\")"
      ]
    },
    {
      "cell_type": "code",
      "metadata": {
        "colab": {
          "base_uri": "https://localhost:8080/"
        },
        "id": "t7wxHqkZlY-A",
        "outputId": "f805d31c-0698-49a0-cc0a-5a27fc3fa87e"
      },
      "source": [
        "df['T1']"
      ],
      "execution_count": null,
      "outputs": [
        {
          "output_type": "execute_result",
          "data": {
            "text/plain": [
              "STT\n",
              "1      7.2\n",
              "2      5.4\n",
              "3      5.6\n",
              "4      6.6\n",
              "5      6.0\n",
              "      ... \n",
              "98     8.8\n",
              "99     2.7\n",
              "100    4.1\n",
              "0      NaN\n",
              "0      NaN\n",
              "Name: T1, Length: 102, dtype: float64"
            ]
          },
          "metadata": {},
          "execution_count": 108
        }
      ]
    },
    {
      "cell_type": "markdown",
      "metadata": {
        "id": "_aSs7bGMgE3y"
      },
      "source": [
        "*3. Lập bảng tần số cho biến phanloait1\n",
        "*"
      ]
    },
    {
      "cell_type": "markdown",
      "metadata": {
        "id": "rB4xQX8VgKM0"
      },
      "source": [
        "*4. Vẽ biểu đồ đường Multiple Line cho biến T1 được phân loại bởi biến phanlopt1*"
      ]
    },
    {
      "cell_type": "markdown",
      "metadata": {
        "id": "f80QrUynKnmr"
      },
      "source": [
        "*5. Vẽ biểu đồ Drop-line cho biến T1 được phân loại bởi biến phanlopt1*"
      ]
    },
    {
      "cell_type": "markdown",
      "metadata": {
        "id": "-dOvEuwiLAc7"
      },
      "source": [
        "# **Phần 5:**\n",
        "\n",
        "**Mô tả dữ liệu và khảo sát dạng phân phối**\n",
        "> Gợi ý:\n",
        "- Mô tả độ tập trung và phân tán của dữ liệu T1\n",
        "- Vẽ biểu đồ Box-Plot và xác định các 10 đại lượng trong biểu đồ đó\n",
        "- Mô tả hình dáng lệch của phân phối T1 dựa vào các đại lượng hướng tâm\n",
        "- Vẽ biểu đồ Histogram biểu thị hình dáng phân phối\n",
        "- Mô tả các đặc trưng của phân phối, mức độ lệch và mức độ nhọn -\n",
        "- Kiểm chứng phân phối chuẩn QQ-Plot\n",
        "- Nhận xét và đánh giá về phân phối của T1\n",
        "2. Hãy mô tả và khảo sát phân phối cho biến T1 trên từng nhóm phân lớp (phanlopT1)\n",
        "> Gợi ý:\n",
        "- Trực quan hóa biểu đồ Box-plot, histogram và QQ-plot theo phân nhóm là giá trị của ‗phanlopT1‘.\n",
        "3. Hãy khảo sát tương quan giữa biến DH1 theo biến T1 \n",
        "> Gợi ý:\n",
        "- Nhận xét giá trị Covariance hoặc Correlation\n",
        "- Vẽ biểu đồ Scatter thể hiện liên hệ của biến phụ thuộc DH1 theo biến độc lập T1\n",
        "4. Hãy khảo sát tương quan giữa biến DH1 theo biến T1 trên từng nhóm khu vực\n",
        "5. Hãy khảo sát tương quan giữa các biến DH1, DH2, DH3\n",
        "> Gợi ý:\n",
        "- Nhận xét ma trận hiệp phương sai hoặc ma trận tương quan\n",
        "- Vẽ biểu đồ Scatter giữa các biến\n"
      ]
    },
    {
      "cell_type": "code",
      "metadata": {
        "id": "9kfXG9fIF3Lo"
      },
      "source": [
        ""
      ],
      "execution_count": null,
      "outputs": []
    }
  ]
}