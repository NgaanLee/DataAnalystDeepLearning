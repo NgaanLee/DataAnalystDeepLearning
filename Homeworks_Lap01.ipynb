{
  "nbformat": 4,
  "nbformat_minor": 0,
  "metadata": {
    "colab": {
      "name": "Homeworks-Lap01.ipynb",
      "provenance": [],
      "collapsed_sections": [],
      "mount_file_id": "1bw6Y_oK23z68YTtgeCADamD0aTJ6vCK8",
      "authorship_tag": "ABX9TyMV5rqCzcbFIdlMT+dCc9CO",
      "include_colab_link": true
    },
    "kernelspec": {
      "name": "python3",
      "display_name": "Python 3"
    },
    "language_info": {
      "name": "python"
    }
  },
  "cells": [
    {
      "cell_type": "markdown",
      "metadata": {
        "id": "view-in-github",
        "colab_type": "text"
      },
      "source": [
        "<a href=\"https://colab.research.google.com/github/NgaanLee/DataAnalystDeepLearning/blob/main/Homeworks_Lap01.ipynb\" target=\"_parent\"><img src=\"https://colab.research.google.com/assets/colab-badge.svg\" alt=\"Open In Colab\"/></a>"
      ]
    },
    {
      "cell_type": "markdown",
      "metadata": {
        "id": "0NLGdcrWfs0C"
      },
      "source": [
        "Dữ liệu dulieuxettuyendaihoc.csv được mô tả như sau: Dữ liệu lưu trữ điểm trung bình môn, khu vực, khối thi và điểm thi đại học của 100 học sinh.\n",
        "\n",
        "* T1, L1, H1, S1, V1, X1, D1, N1 lần lượt là điểm trung bình các môn Toán, Lý, Hóa, Sinh, Văn, Sử, Địa, Ngoại ngữ năm lớp 10\n",
        "* T2, L2, H2, S2, V2, X2, D2, N2 lần lượt là điểm trung bình các môn Toán, Lý, Hóa, Sinh, Văn, Sử, Địa, Ngoại ngữ năm lớp 11\n",
        "* T6, L6, H6, S6, V6, X6, D6, N6 lần lượt là điểm trung bình các môn Toán, Lý, Hóa, Sinh, Văn, Sử, Địa, Ngoại ngữ năm lớp 12\n",
        "* GT: Giới tính\n",
        "* DT: Dân tộc\n",
        "* KV, KT lần lượt là khu vực thi và khối thi\n",
        "* DH1, DH2, DH3 lần lượt là điểm thi đại học môn 1, môn 2, môn 3\n"
      ]
    },
    {
      "cell_type": "markdown",
      "metadata": {
        "id": "yrLzgCjEf-J2"
      },
      "source": [
        "**Sử dụng Pandas để thực hiện các yêu cầu sau đây:**"
      ]
    },
    {
      "cell_type": "markdown",
      "metadata": {
        "id": "sC_bAKRegJGu"
      },
      "source": [
        "1. Xác định và phân loại dữ liệu định tính và định lượng\n",
        "2. Định nghĩa các thang đo phù hợp cho từng biến số\n",
        "3. Sử dụng Python để tải dữ liệu lên chương trình và in ra màn hình 10 dòng đầu tiên và 10 dòng cuối cùng\n",
        "4. Thống kê dữ liệu thiếu cho cột dân tộc và hiệu chỉnh dữ liệu thiếu như sau: Mặc định thiếu thì điền giá trị 0. Hướng dẫn:\n",
        "\n",
        "> Lập bảng tần số, tần suất để khảo sát dữ liệu thiếu, bao nhiêu dữ liệu riêng biệt (pandas unique).\n",
        "\n",
        "\n",
        "> Thực hiện thay thế dữ liệu thiếu bằng phương pháp điền dữ liệu 0\n",
        "\n",
        "\n",
        "\n",
        "1. Thống kê dữ liệu thiếu cho biến T1 và hiệu chỉnh dữ liệu, lưu ý việc thay thế dữ liệu thiếu sử dụng phương pháp Mean. Hướng dẫn\n",
        "\n",
        "> Lập bảng tần số, tần suất để khảo sát dữ liệu thiếu.\n",
        " \n",
        "> Thực hiện thay thế dữ liệu thiếu bằng phương pháp Mean.\n",
        "\n",
        "1. Hãy thực hiện xử lý lần lượt tất cả dữ liệu thiếu cho các biến về điểm số còn lại.\n",
        "2. Tạo các biến TBM1, TBM2, TBM3 tương ứng với trung bình môn của các năm lớp 10, 11 và 12. • Công thức tính: TBM = (T2 + L + H + S + V2 + X + D + N) / 10\n",
        "3. Tạo các biến xếp loại XL1, XL2 và XL3 dựa trên TBM1, TBM2 và TBM3 cho từng năm lớp 10, 11, 12 như sau: • Nhỏ hơn 5.0 xếp loại: yếu (kí hiệu là Y) • Từ 5.0 đến dưới 6.5: trung bình (kí hiệu là TB) • Từ 6.5 đến dưới 8.0: khá (kí hiệu là K) • Từ 8.0 đến dưới 9.0: giỏi (kí hiệu là G) • Từ 9.0 trở lên: xuất sắc (kí hiệu là XS)\n",
        "4. Tạo các biến US_TBM1, US_TBM2 và US_TBM3 để chuyển điểm trung bình các năm lớp 10, 11 và 12 từ thang điểm 10 của Việt Nam sang thang điểm 4 của Mỹ. Sử dụng phương pháp Min-Max Normalization\n",
        "5. Tạo biến kết quả xét tuyển (kí hiệu là KQXT) nhằm xác định sinh viên đậu (giá trị “1”) và rớt (giá trị “0”) vào các khối dựa trên điểm DH1, DH2 và DH3 như sau • Với khối A, A1 nếu [(DH12 + DH2 + DH3)/4] lớn hơn hoặc bằng 5.0 thì đậu, ngược lại là rớt • Với khối B nếu [(DH1 + DH22 + DH3)/4] lớn hơn hoặc bằng 5.0 thì đậu, ngược lại là rớt • Với khối khác nếu [(DH1+ DH2 + DH3)/3] lớn hơn hoặc bằng 5.0 thì đậu, ngược lại là rớt\n",
        "6. Lưu trữ dữ liệu xuống ổ đĩa thành file processed_dulieuxettuyendaihoc.csv"
      ]
    },
    {
      "cell_type": "code",
      "metadata": {
        "id": "CmxgVsgvfjBM"
      },
      "source": [
        "# Khai báo thư viện\n",
        "import pandas as pd\n",
        "import numpy as np"
      ],
      "execution_count": 1,
      "outputs": []
    },
    {
      "cell_type": "markdown",
      "metadata": {
        "id": "J9Gexa5glaJA"
      },
      "source": [
        "**Lấy dữ liệu từ nguồn thầy đưa**"
      ]
    },
    {
      "cell_type": "code",
      "metadata": {
        "colab": {
          "base_uri": "https://localhost:8080/"
        },
        "id": "C7X_WvK_la6x",
        "outputId": "70a389a5-4b52-4f1f-a891-fb12737a8336"
      },
      "source": [
        "dulieuxettuyen = pd.read_csv(\"https://raw.githubusercontent.com/huynhhoc/DataAnalystDeepLearning/main/Data/dulieuxettuyendaihoc.csv\")\n",
        "print (dulieuxettuyen.head(10))"
      ],
      "execution_count": 3,
      "outputs": [
        {
          "output_type": "stream",
          "name": "stdout",
          "text": [
            "   STT   T1   L1   H1   S1   V1   X1  ...  GT  DT   KV   DH1   DH2   DH3  KT\n",
            "0    1  7.2  7.3  6.3  7.3  7.0  7.9  ...   F NaN  2NT  3.25  3.25  4.50  A1\n",
            "1    2  5.4  3.9  3.9  4.0  5.4  5.4  ...   M NaN    1  6.00  4.00  3.50   C\n",
            "2    3  5.6  6.8  7.2  7.5  4.3  7.4  ...   M NaN    1  5.00  6.75  4.00   C\n",
            "3    4  6.6  6.4  5.3  6.9  5.4  7.3  ...   M NaN    1  4.25  4.25  5.25  D1\n",
            "4    5  6.0  5.0  6.0  7.3  6.5  7.7  ...   M NaN  2NT  4.25  4.50  5.00   A\n",
            "5    6  9.3  7.6  7.9  8.6  7.0  7.3  ...   M NaN    1  1.50  4.00  6.00  D1\n",
            "6    7  2.8  3.9  5.5  6.9  5.0  7.3  ...   F NaN    2  6.50  6.75  5.25   C\n",
            "7    8  8.3  6.0  7.6  5.1  7.5  4.7  ...   F NaN    2  3.75  4.50  4.25  D1\n",
            "8    9  6.5  6.3  7.6  6.0  5.5  7.1  ...   F NaN    1  3.50  3.50  6.75  D1\n",
            "9   10  7.3  5.9  4.7  7.1  6.7  7.9  ...   F NaN    1  4.00  4.75  5.50  D1\n",
            "\n",
            "[10 rows x 56 columns]\n"
          ]
        }
      ]
    },
    {
      "cell_type": "code",
      "metadata": {
        "colab": {
          "base_uri": "https://localhost:8080/"
        },
        "id": "S6hpr9s5lej9",
        "outputId": "6e7f3f62-f45f-4464-fe04-0e308a4f6084"
      },
      "source": [
        "# Kết nối với Drive lấy dữ liệu với mục đích sử dụng lâu dài\n",
        "from google.colab import drive\n",
        "drive.mount('/drive')"
      ],
      "execution_count": 4,
      "outputs": [
        {
          "output_type": "stream",
          "name": "stdout",
          "text": [
            "Mounted at /drive\n"
          ]
        }
      ]
    },
    {
      "cell_type": "code",
      "metadata": {
        "id": "v9sVw3vpl0L-"
      },
      "source": [
        "# Lưu dữ liệu trên Drive\n",
        "frame = pd.DataFrame(dulieuxettuyen)\n",
        "frame.to_csv('/drive/My Drive/DataAnalyst/dulieuxettuyen.csv')"
      ],
      "execution_count": 6,
      "outputs": []
    },
    {
      "cell_type": "code",
      "metadata": {
        "id": "s5PbmM4Fixu5"
      },
      "source": [
        "df = pd.read_csv(\"/drive/My Drive/DataAnalyst/dulieuxettuyen.csv\", index_col = \"STT\")"
      ],
      "execution_count": 8,
      "outputs": []
    },
    {
      "cell_type": "markdown",
      "metadata": {
        "id": "Aes0ZiPNoDuu"
      },
      "source": [
        "***1. Xác định và phân loại dữ liệu định tính và định lượng***"
      ]
    },
    {
      "cell_type": "code",
      "metadata": {
        "colab": {
          "base_uri": "https://localhost:8080/"
        },
        "id": "MSSCUah-pgdW",
        "outputId": "8ca55992-abc5-41f3-f4c0-f45290ac8a55"
      },
      "source": [
        "# dữ liệu định tính\n",
        "df.dtypes"
      ],
      "execution_count": 10,
      "outputs": [
        {
          "output_type": "execute_result",
          "data": {
            "text/plain": [
              "Unnamed: 0      int64\n",
              "T1            float64\n",
              "L1            float64\n",
              "H1            float64\n",
              "S1            float64\n",
              "V1            float64\n",
              "X1            float64\n",
              "D1            float64\n",
              "N1            float64\n",
              "T2            float64\n",
              "L2            float64\n",
              "H2            float64\n",
              "S2            float64\n",
              "V2            float64\n",
              "X2            float64\n",
              "D2            float64\n",
              "N2            float64\n",
              "T3            float64\n",
              "L3            float64\n",
              "H3            float64\n",
              "S3            float64\n",
              "V3            float64\n",
              "X3            float64\n",
              "D3            float64\n",
              "N3            float64\n",
              "T4            float64\n",
              "L4            float64\n",
              "H4            float64\n",
              "S4            float64\n",
              "V4            float64\n",
              "X4            float64\n",
              "D4            float64\n",
              "N4            float64\n",
              "T5            float64\n",
              "L5            float64\n",
              "H5            float64\n",
              "S5            float64\n",
              "V5            float64\n",
              "X5            float64\n",
              "D5            float64\n",
              "N5            float64\n",
              "T6            float64\n",
              "L6            float64\n",
              "H6            float64\n",
              "S6            float64\n",
              "V6            float64\n",
              "X6            float64\n",
              "D6            float64\n",
              "N6            float64\n",
              "GT             object\n",
              "DT            float64\n",
              "KV             object\n",
              "DH1           float64\n",
              "DH2           float64\n",
              "DH3           float64\n",
              "KT             object\n",
              "dtype: object"
            ]
          },
          "metadata": {},
          "execution_count": 10
        }
      ]
    },
    {
      "cell_type": "code",
      "metadata": {
        "colab": {
          "base_uri": "https://localhost:8080/"
        },
        "id": "BvwfociZp1Xz",
        "outputId": "5075fe5f-90de-41b6-eeb5-9e806c744096"
      },
      "source": [
        "# dữ liệu định lượng\n",
        "df.values"
      ],
      "execution_count": 11,
      "outputs": [
        {
          "output_type": "execute_result",
          "data": {
            "text/plain": [
              "array([[0, 7.2, 7.3, ..., 3.25, 4.5, 'A1'],\n",
              "       [1, 5.4, 3.9, ..., 4.0, 3.5, 'C'],\n",
              "       [2, 5.6, 6.8, ..., 6.75, 4.0, 'C'],\n",
              "       ...,\n",
              "       [97, 8.8, 5.5, ..., 8.0, 4.0, 'C'],\n",
              "       [98, 2.7, 1.8, ..., 3.5, 5.5, 'C'],\n",
              "       [99, 4.1, 5.2, ..., 2.5, 4.25, 'C']], dtype=object)"
            ]
          },
          "metadata": {},
          "execution_count": 11
        }
      ]
    },
    {
      "cell_type": "code",
      "metadata": {
        "colab": {
          "base_uri": "https://localhost:8080/"
        },
        "id": "mfXGBRt7qO5G",
        "outputId": "9f9642c0-c69d-4cca-e775-96afd1ea054d"
      },
      "source": [
        "df.value_counts"
      ],
      "execution_count": 12,
      "outputs": [
        {
          "output_type": "execute_result",
          "data": {
            "text/plain": [
              "<bound method DataFrame.value_counts of      Unnamed: 0   T1   L1   H1   S1   V1   X1  ...  GT  DT   KV   DH1   DH2   DH3  KT\n",
              "STT                                            ...                                   \n",
              "1             0  7.2  7.3  6.3  7.3  7.0  7.9  ...   F NaN  2NT  3.25  3.25  4.50  A1\n",
              "2             1  5.4  3.9  3.9  4.0  5.4  5.4  ...   M NaN    1  6.00  4.00  3.50   C\n",
              "3             2  5.6  6.8  7.2  7.5  4.3  7.4  ...   M NaN    1  5.00  6.75  4.00   C\n",
              "4             3  6.6  6.4  5.3  6.9  5.4  7.3  ...   M NaN    1  4.25  4.25  5.25  D1\n",
              "5             4  6.0  5.0  6.0  7.3  6.5  7.7  ...   M NaN  2NT  4.25  4.50  5.00   A\n",
              "..          ...  ...  ...  ...  ...  ...  ...  ...  ..  ..  ...   ...   ...   ...  ..\n",
              "96           95  8.6  6.9  7.4  8.8  7.6  5.8  ...   F NaN    1  5.25  1.50  6.25   C\n",
              "97           96  3.7  5.4  6.0  5.1  5.5  3.9  ...   F NaN    1  5.25  3.75  4.75   C\n",
              "98           97  8.8  5.5  7.4  7.7  6.2  7.3  ...   M NaN  2NT  7.00  8.00  4.00   C\n",
              "99           98  2.7  1.8  3.4  5.3  4.5  7.9  ...   M NaN    1  5.00  3.50  5.50   C\n",
              "100          99  4.1  5.2  4.9  5.3  5.5  5.4  ...   M NaN  2NT  5.25  2.50  4.25   C\n",
              "\n",
              "[100 rows x 56 columns]>"
            ]
          },
          "metadata": {},
          "execution_count": 12
        }
      ]
    },
    {
      "cell_type": "markdown",
      "metadata": {
        "id": "NoUb_0xgrn4D"
      },
      "source": [
        "***2. Định nghĩa các thang đo phù hợp cho từng biến số***"
      ]
    },
    {
      "cell_type": "markdown",
      "metadata": {
        "id": "vdilPNDwsWeA"
      },
      "source": [
        "***3. Sử dụng Python để tải dữ liệu lên chương trình và in ra màn hình 10 dòng đầu tiên và 10 dòng cuối cùng***"
      ]
    },
    {
      "cell_type": "code",
      "metadata": {
        "id": "nXLL3tgErEio"
      },
      "source": [
        ""
      ],
      "execution_count": null,
      "outputs": []
    }
  ]
}