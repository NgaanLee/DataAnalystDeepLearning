{
  "nbformat": 4,
  "nbformat_minor": 0,
  "metadata": {
    "colab": {
      "name": "Homeworks-Lap01.ipynb",
      "provenance": [],
      "collapsed_sections": [],
      "authorship_tag": "ABX9TyNwG6q8VcM6Cn/oMOlmVP/I",
      "include_colab_link": true
    },
    "kernelspec": {
      "name": "python3",
      "display_name": "Python 3"
    },
    "language_info": {
      "name": "python"
    }
  },
  "cells": [
    {
      "cell_type": "markdown",
      "metadata": {
        "id": "view-in-github",
        "colab_type": "text"
      },
      "source": [
        "<a href=\"https://colab.research.google.com/github/NgaanLee/DataAnalystDeepLearning/blob/main/Homeworks_Lap01.ipynb\" target=\"_parent\"><img src=\"https://colab.research.google.com/assets/colab-badge.svg\" alt=\"Open In Colab\"/></a>"
      ]
    },
    {
      "cell_type": "markdown",
      "metadata": {
        "id": "0NLGdcrWfs0C"
      },
      "source": [
        "Dữ liệu dulieuxettuyendaihoc.csv được mô tả như sau: Dữ liệu lưu trữ điểm trung bình môn, khu vực, khối thi và điểm thi đại học của 100 học sinh.\n",
        "\n",
        "* T1, L1, H1, S1, V1, X1, D1, N1 lần lượt là điểm trung bình các môn Toán, Lý, Hóa, Sinh, Văn, Sử, Địa, Ngoại ngữ năm lớp 10\n",
        "* T2, L2, H2, S2, V2, X2, D2, N2 lần lượt là điểm trung bình các môn Toán, Lý, Hóa, Sinh, Văn, Sử, Địa, Ngoại ngữ năm lớp 11\n",
        "* T6, L6, H6, S6, V6, X6, D6, N6 lần lượt là điểm trung bình các môn Toán, Lý, Hóa, Sinh, Văn, Sử, Địa, Ngoại ngữ năm lớp 12\n",
        "* GT: Giới tính\n",
        "* DT: Dân tộc\n",
        "* KV, KT lần lượt là khu vực thi và khối thi\n",
        "* DH1, DH2, DH3 lần lượt là điểm thi đại học môn 1, môn 2, môn 3\n"
      ]
    },
    {
      "cell_type": "markdown",
      "metadata": {
        "id": "yrLzgCjEf-J2"
      },
      "source": [
        "**Sử dụng Pandas để thực hiện các yêu cầu sau đây:**"
      ]
    },
    {
      "cell_type": "markdown",
      "metadata": {
        "id": "sC_bAKRegJGu"
      },
      "source": [
        "1. Xác định và phân loại dữ liệu định tính và định lượng\n",
        "2. Định nghĩa các thang đo phù hợp cho từng biến số\n",
        "3. Sử dụng Python để tải dữ liệu lên chương trình và in ra màn hình 10 dòng đầu tiên và 10 dòng cuối cùng\n",
        "4. Thống kê dữ liệu thiếu cho cột dân tộc và hiệu chỉnh dữ liệu thiếu như sau: Mặc định thiếu thì điền giá trị 0. Hướng dẫn:\n",
        "\n",
        "> Lập bảng tần số, tần suất để khảo sát dữ liệu thiếu, bao nhiêu dữ liệu riêng biệt (pandas unique).\n",
        "\n",
        "\n",
        "> Thực hiện thay thế dữ liệu thiếu bằng phương pháp điền dữ liệu 0\n",
        "\n",
        "\n",
        "\n",
        "1. Thống kê dữ liệu thiếu cho biến T1 và hiệu chỉnh dữ liệu, lưu ý việc thay thế dữ liệu thiếu sử dụng phương pháp Mean. Hướng dẫn\n",
        "\n",
        "> Lập bảng tần số, tần suất để khảo sát dữ liệu thiếu.\n",
        " \n",
        "> Thực hiện thay thế dữ liệu thiếu bằng phương pháp Mean.\n",
        "\n",
        "1. Hãy thực hiện xử lý lần lượt tất cả dữ liệu thiếu cho các biến về điểm số còn lại.\n",
        "2. Tạo các biến TBM1, TBM2, TBM3 tương ứng với trung bình môn của các năm lớp 10, 11 và 12. • Công thức tính: TBM = (T2 + L + H + S + V2 + X + D + N) / 10\n",
        "3. Tạo các biến xếp loại XL1, XL2 và XL3 dựa trên TBM1, TBM2 và TBM3 cho từng năm lớp 10, 11, 12 như sau: • Nhỏ hơn 5.0 xếp loại: yếu (kí hiệu là Y) • Từ 5.0 đến dưới 6.5: trung bình (kí hiệu là TB) • Từ 6.5 đến dưới 8.0: khá (kí hiệu là K) • Từ 8.0 đến dưới 9.0: giỏi (kí hiệu là G) • Từ 9.0 trở lên: xuất sắc (kí hiệu là XS)\n",
        "4. Tạo các biến US_TBM1, US_TBM2 và US_TBM3 để chuyển điểm trung bình các năm lớp 10, 11 và 12 từ thang điểm 10 của Việt Nam sang thang điểm 4 của Mỹ. Sử dụng phương pháp Min-Max Normalization\n",
        "5. Tạo biến kết quả xét tuyển (kí hiệu là KQXT) nhằm xác định sinh viên đậu (giá trị “1”) và rớt (giá trị “0”) vào các khối dựa trên điểm DH1, DH2 và DH3 như sau • Với khối A, A1 nếu [(DH12 + DH2 + DH3)/4] lớn hơn hoặc bằng 5.0 thì đậu, ngược lại là rớt • Với khối B nếu [(DH1 + DH22 + DH3)/4] lớn hơn hoặc bằng 5.0 thì đậu, ngược lại là rớt • Với khối khác nếu [(DH1+ DH2 + DH3)/3] lớn hơn hoặc bằng 5.0 thì đậu, ngược lại là rớt\n",
        "6. Lưu trữ dữ liệu xuống ổ đĩa thành file processed_dulieuxettuyendaihoc.csv"
      ]
    },
    {
      "cell_type": "code",
      "metadata": {
        "id": "CmxgVsgvfjBM"
      },
      "source": [
        ""
      ],
      "execution_count": null,
      "outputs": []
    }
  ]
}